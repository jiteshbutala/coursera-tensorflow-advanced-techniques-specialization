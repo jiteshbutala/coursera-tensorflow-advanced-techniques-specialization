{
  "cells": [
    {
      "cell_type": "code",
      "execution_count": 2,
      "metadata": {
        "id": "2d-3H7rb0at0"
      },
      "outputs": [
        {
          "name": "stdout",
          "output_type": "stream",
          "text": [
            "Version of tensorflow is :  2.13.0\n"
          ]
        }
      ],
      "source": [
        "import tensorflow as tf\n",
        "print(\"Version of tensorflow is : \",tf.__version__)\n",
        "from tensorflow.keras.layers import Layer , Dense , Flatten\n",
        "from tensorflow.keras.models import Sequential\n",
        "from tensorflow.keras.datasets import mnist\n",
        "from tensorflow.keras.losses import categorical_crossentropy\n",
        "from tensorflow.keras.optimizers import RMSprop\n",
        "from tensorflow.nn import softmax , relu"
      ]
    },
    {
      "cell_type": "code",
      "execution_count": 8,
      "metadata": {
        "id": "DMoFoFEO0o6b"
      },
      "outputs": [],
      "source": [
        "(train_data , train_label) , (test_data , test_label) = mnist.load_data()\n",
        "\n",
        "train_data = train_data / 255.0\n",
        "test_data  = test_data  / 255.0\n",
        "\n",
        "train_label = tf.keras.utils.to_categorical(train_label)\n",
        "test_label  = tf.keras.utils.to_categorical(test_label)"
      ]
    },
    {
      "cell_type": "markdown",
      "metadata": {
        "id": "7UBm5gbU10eI"
      },
      "source": [
        "---\n",
        "\n",
        "Define Class for **custom Dense layer**\n",
        "\n",
        "---"
      ]
    },
    {
      "cell_type": "code",
      "execution_count": 9,
      "metadata": {
        "id": "_QEjVS9r1y9P"
      },
      "outputs": [],
      "source": [
        "class MyDenseLayer(Layer):\n",
        "    def __init__(self , units = 32 ):\n",
        "        super(MyDenseLayer , self).__init__()\n",
        "        self.units = units\n",
        "\n",
        "    def build(self , input_shape):\n",
        "        w_init = tf.random_normal_initializer()\n",
        "        b_init = tf.zeros_initializer()\n",
        "\n",
        "        self.w = tf.Variable(initial_value=w_init(shape=(input_shape[-1] , self.units) , dtype=\"float32\") , trainable=True , name=\"kernal\")\n",
        "        self.b = tf.Variable(initial_value=b_init(shape=(self.units , ) , dtype=\"float32\") , trainable=True , name=\"bias\")\n",
        "    def call(self , inputs):\n",
        "        return tf.matmul(inputs , self.w) + self.b"
      ]
    },
    {
      "cell_type": "code",
      "execution_count": 5,
      "metadata": {
        "colab": {
          "base_uri": "https://localhost:8080/"
        },
        "id": "BMsZsLfa84Zu",
        "outputId": "c264e743-c1ab-4ed0-8247-717a7ca0bf88"
      },
      "outputs": [
        {
          "name": "stdout",
          "output_type": "stream",
          "text": [
            "Epoch 1/5\n",
            "1875/1875 [==============================] - 4s 2ms/step - loss: 0.3631 - acc: 0.8959\n",
            "Epoch 2/5\n",
            "1875/1875 [==============================] - 3s 2ms/step - loss: 0.3044 - acc: 0.9165\n",
            "Epoch 3/5\n",
            "1875/1875 [==============================] - 3s 1ms/step - loss: 0.2951 - acc: 0.9176\n",
            "Epoch 4/5\n",
            "1875/1875 [==============================] - 3s 2ms/step - loss: 0.2867 - acc: 0.9202\n",
            "Epoch 5/5\n",
            "1875/1875 [==============================] - 3s 1ms/step - loss: 0.2819 - acc: 0.9220\n",
            "313/313 [==============================] - 0s 882us/step - loss: 0.2914 - acc: 0.9169\n"
          ]
        },
        {
          "data": {
            "text/plain": [
              "[0.291372150182724, 0.9168999791145325]"
            ]
          },
          "execution_count": 5,
          "metadata": {},
          "output_type": "execute_result"
        }
      ],
      "source": [
        "model_simpledense = Sequential([\n",
        "    Flatten(input_shape=(28,28)),\n",
        "    MyDenseLayer(128),\n",
        "    Dense(10 , activation = softmax)\n",
        "])\n",
        "model_simpledense.compile(loss = categorical_crossentropy , optimizer = RMSprop() , metrics = ['acc'])\n",
        "model_simpledense.fit(train_data , train_label , epochs = 5)\n",
        "model_simpledense.evaluate(test_data , test_label)"
      ]
    },
    {
      "cell_type": "markdown",
      "metadata": {
        "id": "tz-kfIJl-2Eu"
      },
      "source": [
        "**Custom Dense Layer class with activation parameter**\n",
        "\n",
        "---\n",
        "\n",
        "```pyhton \n",
        "def __init__(self , units = 32 ,activation = None):\n",
        "```\n",
        "\n",
        "\n",
        "*   units  -> No of nurons in the dense layer\n",
        "*   activation -> Activation type(```string | instance of any object```) **Default (None)**\n",
        "\n",
        "\n"
      ]
    },
    {
      "cell_type": "code",
      "execution_count": 10,
      "metadata": {
        "id": "Sx1FXz559rFs"
      },
      "outputs": [],
      "source": [
        "class MyDenseLayerwithActivation(Layer):\n",
        "    def __init__(self , units = 32 ,activation = None):\n",
        "        super(MyDenseLayerwithActivation , self).__init__()\n",
        "        self.units = units\n",
        "        self.activation = activation\n",
        "\n",
        "    def build(self , input_shape):\n",
        "        w_init = tf.random_normal_initializer()\n",
        "        b_init = tf.zeros_initializer()\n",
        "\n",
        "        self.w = tf.Variable(initial_value=w_init(shape=(input_shape[-1] , self.units) , dtype=\"float32\") , trainable=True , name=\"kernal\")\n",
        "        self.b = tf.Variable(initial_value=b_init(shape=(self.units , ) , dtype=\"float32\") , trainable=True , name=\"bias\")\n",
        "    def call(self , inputs):\n",
        "        return self.activation( tf.matmul(inputs , self.w) + self.b )"
      ]
    },
    {
      "cell_type": "code",
      "execution_count": 11,
      "metadata": {
        "colab": {
          "base_uri": "https://localhost:8080/"
        },
        "id": "Vr2Jud9H-x_V",
        "outputId": "3cd86622-3f61-444e-80a5-60feba1420de"
      },
      "outputs": [
        {
          "name": "stdout",
          "output_type": "stream",
          "text": [
            "Epoch 1/5\n",
            "1875/1875 [==============================] - 3s 1ms/step - loss: 0.2956 - acc: 0.9176\n",
            "Epoch 2/5\n",
            "1875/1875 [==============================] - 3s 1ms/step - loss: 0.1349 - acc: 0.9604\n",
            "Epoch 3/5\n",
            "1875/1875 [==============================] - 3s 1ms/step - loss: 0.0970 - acc: 0.9716\n",
            "Epoch 4/5\n",
            "1875/1875 [==============================] - 3s 2ms/step - loss: 0.0759 - acc: 0.9777\n",
            "Epoch 5/5\n",
            "1875/1875 [==============================] - 3s 2ms/step - loss: 0.0623 - acc: 0.9819\n",
            "313/313 [==============================] - 0s 998us/step - loss: 0.0846 - acc: 0.9777\n"
          ]
        },
        {
          "data": {
            "text/plain": [
              "[0.08459857851266861, 0.9776999950408936]"
            ]
          },
          "execution_count": 11,
          "metadata": {},
          "output_type": "execute_result"
        }
      ],
      "source": [
        "model_simpledense_activation = Sequential([\n",
        "    Flatten(input_shape=(28,28)),\n",
        "    MyDenseLayerwithActivation(units = 128 , activation=relu),\n",
        "    MyDenseLayerwithActivation(10 , activation = softmax)\n",
        "])\n",
        "model_simpledense_activation.compile(loss = categorical_crossentropy , optimizer = RMSprop() , metrics = ['acc'])\n",
        "model_simpledense_activation.fit(train_data , train_label , epochs = 5)\n",
        "model_simpledense_activation.evaluate(test_data , test_label)"
      ]
    },
    {
      "cell_type": "code",
      "execution_count": null,
      "metadata": {},
      "outputs": [],
      "source": []
    }
  ],
  "metadata": {
    "accelerator": "GPU",
    "colab": {
      "collapsed_sections": [],
      "name": "CustomDenseWithActivation.ipynb",
      "provenance": []
    },
    "kernelspec": {
      "display_name": ".venv",
      "language": "python",
      "name": "python3"
    },
    "language_info": {
      "codemirror_mode": {
        "name": "ipython",
        "version": 3
      },
      "file_extension": ".py",
      "mimetype": "text/x-python",
      "name": "python",
      "nbconvert_exporter": "python",
      "pygments_lexer": "ipython3",
      "version": "3.8.2"
    }
  },
  "nbformat": 4,
  "nbformat_minor": 0
}
