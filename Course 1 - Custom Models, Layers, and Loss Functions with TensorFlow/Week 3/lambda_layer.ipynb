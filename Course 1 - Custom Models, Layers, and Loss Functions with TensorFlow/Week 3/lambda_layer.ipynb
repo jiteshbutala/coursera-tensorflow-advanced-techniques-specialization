{
  "cells": [
    {
      "cell_type": "code",
      "execution_count": 1,
      "metadata": {
        "colab": {
          "base_uri": "https://localhost:8080/"
        },
        "id": "C9BMsKXZ_cbn",
        "outputId": "4ae593cb-00a6-4866-a7b3-a03152dc8ef3"
      },
      "outputs": [
        {
          "name": "stdout",
          "output_type": "stream",
          "text": [
            "Version of tensorflow is :  2.13.0\n"
          ]
        }
      ],
      "source": [
        "import tensorflow as tf\n",
        "from tensorflow.keras.layers import  Dense , Input , Lambda , Flatten\n",
        "from tensorflow.keras.models import Model\n",
        "from tensorflow.nn import relu , softmax\n",
        "from tensorflow.keras.losses import categorical_crossentropy\n",
        "from tensorflow.keras.optimizers import RMSprop\n",
        "from tensorflow.keras import backend as k\n",
        "from tensorflow.keras.datasets import mnist\n",
        "from tensorflow.keras.utils import to_categorical\n",
        "print(\"Version of tensorflow is : \",tf.__version__)\n",
        "\n",
        "import numpy as np"
      ]
    },
    {
      "cell_type": "code",
      "execution_count": 2,
      "metadata": {
        "colab": {
          "base_uri": "https://localhost:8080/"
        },
        "id": "vgOM9Dsu_iMn",
        "outputId": "e0a233cd-a7ee-4af5-b4d8-1816c3e6c304"
      },
      "outputs": [
        {
          "name": "stdout",
          "output_type": "stream",
          "text": [
            "Downloading data from https://storage.googleapis.com/tensorflow/tf-keras-datasets/mnist.npz\n",
            "11490434/11490434 [==============================] - 3s 0us/step\n"
          ]
        }
      ],
      "source": [
        "(train_data , train_label) , (test_data , test_label) = mnist.load_data()\n",
        "\n",
        "train_data = train_data / 255.0\n",
        "test_data  = test_data  / 255.0\n",
        "\n",
        "train_label = to_categorical(train_label)\n",
        "test_label  = to_categorical( test_label)"
      ]
    },
    {
      "cell_type": "code",
      "execution_count": 3,
      "metadata": {
        "id": "Oxcl_9L3A8ll"
      },
      "outputs": [],
      "source": [
        "input = Input(shape=(28 , 28) , name=\"input_layer\")\n",
        "flatten = Flatten(name=\"flatten_layer\")(input)"
      ]
    },
    {
      "cell_type": "code",
      "execution_count": 4,
      "metadata": {
        "colab": {
          "base_uri": "https://localhost:8080/"
        },
        "id": "TWrk3WxgBInd",
        "outputId": "08451392-dba3-4cb0-ee31-83f8afdcbb5e"
      },
      "outputs": [
        {
          "name": "stdout",
          "output_type": "stream",
          "text": [
            "Model: \"model\"\n",
            "_________________________________________________________________\n",
            " Layer (type)                Output Shape              Param #   \n",
            "=================================================================\n",
            " input_layer (InputLayer)    [(None, 28, 28)]          0         \n",
            "                                                                 \n",
            " flatten_layer (Flatten)     (None, 784)               0         \n",
            "                                                                 \n",
            " layer_with_activation (Den  (None, 128)               100480    \n",
            " se)                                                             \n",
            "                                                                 \n",
            " output_layer_with_activati  (None, 10)                1290      \n",
            " on (Dense)                                                      \n",
            "                                                                 \n",
            "=================================================================\n",
            "Total params: 101770 (397.54 KB)\n",
            "Trainable params: 101770 (397.54 KB)\n",
            "Non-trainable params: 0 (0.00 Byte)\n",
            "_________________________________________________________________\n",
            "Epoch 1/5\n",
            "1875/1875 [==============================] - 3s 1ms/step - loss: 0.2547 - acc: 0.9273\n",
            "Epoch 2/5\n",
            "1875/1875 [==============================] - 4s 2ms/step - loss: 0.1173 - acc: 0.9658\n",
            "Epoch 3/5\n",
            "1875/1875 [==============================] - 4s 2ms/step - loss: 0.0853 - acc: 0.9750\n",
            "Epoch 4/5\n",
            "1875/1875 [==============================] - 3s 1ms/step - loss: 0.0679 - acc: 0.9801\n",
            "Epoch 5/5\n",
            "1875/1875 [==============================] - 3s 1ms/step - loss: 0.0565 - acc: 0.9835\n",
            "313/313 [==============================] - 0s 860us/step - loss: 0.0830 - acc: 0.9761\n"
          ]
        },
        {
          "data": {
            "text/plain": [
              "[0.08304489403963089, 0.9761000275611877]"
            ]
          },
          "execution_count": 4,
          "metadata": {},
          "output_type": "execute_result"
        }
      ],
      "source": [
        "layer_with_activation = Dense(128 , activation=relu , name='layer_with_activation')(flatten)\n",
        "output_layer_with_activation = Dense(10 , activation=softmax , name=\"output_layer_with_activation\")(layer_with_activation)\n",
        "model_with_activation = Model(inputs = input , outputs = output_layer_with_activation)\n",
        "model_with_activation.compile(optimizer = RMSprop() , loss = categorical_crossentropy , metrics = ['acc'])\n",
        "model_with_activation.summary()\n",
        "model_with_activation.fit(train_data , train_label , epochs=5)\n",
        "model_with_activation.evaluate(test_data , test_label)"
      ]
    },
    {
      "cell_type": "code",
      "execution_count": 5,
      "metadata": {
        "colab": {
          "base_uri": "https://localhost:8080/"
        },
        "id": "blLQftPxCVoA",
        "outputId": "0553c7fc-05a2-475a-a113-259d9a56acac"
      },
      "outputs": [
        {
          "name": "stdout",
          "output_type": "stream",
          "text": [
            "Model: \"model_1\"\n",
            "_________________________________________________________________\n",
            " Layer (type)                Output Shape              Param #   \n",
            "=================================================================\n",
            " input_layer (InputLayer)    [(None, 28, 28)]          0         \n",
            "                                                                 \n",
            " flatten_layer (Flatten)     (None, 784)               0         \n",
            "                                                                 \n"
          ]
        },
        {
          "name": "stdout",
          "output_type": "stream",
          "text": [
            " layer_without_activation (  (None, 128)               100480    \n",
            " Dense)                                                          \n",
            "                                                                 \n",
            " output_layer_with_activati  (None, 10)                1290      \n",
            " on (Dense)                                                      \n",
            "                                                                 \n",
            "=================================================================\n",
            "Total params: 101770 (397.54 KB)\n",
            "Trainable params: 101770 (397.54 KB)\n",
            "Non-trainable params: 0 (0.00 Byte)\n",
            "_________________________________________________________________\n",
            "Epoch 1/5\n",
            "1875/1875 [==============================] - 3s 2ms/step - loss: 0.3610 - acc: 0.8969\n",
            "Epoch 2/5\n",
            "1875/1875 [==============================] - 6s 3ms/step - loss: 0.3072 - acc: 0.9153\n",
            "Epoch 3/5\n",
            "1875/1875 [==============================] - 5s 3ms/step - loss: 0.2947 - acc: 0.9193\n",
            "Epoch 4/5\n",
            "1875/1875 [==============================] - 5s 2ms/step - loss: 0.2880 - acc: 0.9203\n",
            "Epoch 5/5\n",
            "1875/1875 [==============================] - 5s 3ms/step - loss: 0.2831 - acc: 0.9226\n",
            "313/313 [==============================] - 1s 2ms/step - loss: 0.2880 - acc: 0.9195\n"
          ]
        },
        {
          "data": {
            "text/plain": [
              "[0.2880164384841919, 0.9194999933242798]"
            ]
          },
          "execution_count": 5,
          "metadata": {},
          "output_type": "execute_result"
        }
      ],
      "source": [
        "layer_without_activation = Dense(128 , name='layer_without_activation')(flatten)\n",
        "output_layer_without_activation = Dense(10 , activation=softmax , name=\"output_layer_with_activation\")(layer_without_activation)\n",
        "model_without_activation = Model(inputs = input , outputs = output_layer_without_activation)\n",
        "model_without_activation.compile(optimizer = RMSprop() , loss = categorical_crossentropy , metrics = ['acc'])\n",
        "model_without_activation.summary()\n",
        "model_without_activation.fit(train_data , train_label , epochs=5)\n",
        "model_without_activation.evaluate(test_data , test_label)"
      ]
    },
    {
      "cell_type": "code",
      "execution_count": 6,
      "metadata": {
        "colab": {
          "base_uri": "https://localhost:8080/"
        },
        "id": "pdnRp2WhCgxl",
        "outputId": "5dbd5520-389a-4239-e577-001f3e2a95b4"
      },
      "outputs": [
        {
          "name": "stdout",
          "output_type": "stream",
          "text": [
            "Model: \"sequential\"\n",
            "_________________________________________________________________\n",
            " Layer (type)                Output Shape              Param #   \n",
            "=================================================================\n",
            " flatten (Flatten)           (None, 784)               0         \n",
            "                                                                 \n",
            " dense (Dense)               (None, 128)               100480    \n",
            "                                                                 \n",
            " lambda (Lambda)             (None, 128)               0         \n",
            "                                                                 \n",
            " dense_1 (Dense)             (None, 10)                1290      \n",
            "                                                                 \n",
            "=================================================================\n",
            "Total params: 101770 (397.54 KB)\n",
            "Trainable params: 101770 (397.54 KB)\n",
            "Non-trainable params: 0 (0.00 Byte)\n",
            "_________________________________________________________________\n",
            "Epoch 1/5\n",
            "1875/1875 [==============================] - 4s 2ms/step - loss: 0.2109 - acc: 0.9399\n",
            "Epoch 2/5\n",
            "1875/1875 [==============================] - 5s 3ms/step - loss: 0.0901 - acc: 0.9739\n",
            "Epoch 3/5\n",
            "1875/1875 [==============================] - 5s 3ms/step - loss: 0.0647 - acc: 0.9810\n",
            "Epoch 4/5\n",
            "1875/1875 [==============================] - 5s 3ms/step - loss: 0.0497 - acc: 0.9852\n",
            "Epoch 5/5\n",
            "1875/1875 [==============================] - 3s 1ms/step - loss: 0.0399 - acc: 0.9882\n",
            "313/313 [==============================] - 0s 870us/step - loss: 0.0764 - acc: 0.9791\n"
          ]
        },
        {
          "data": {
            "text/plain": [
              "[0.07642395049333572, 0.9790999889373779]"
            ]
          },
          "execution_count": 6,
          "metadata": {},
          "output_type": "execute_result"
        }
      ],
      "source": [
        "model_lambda = tf.keras.models.Sequential([\n",
        "    tf.keras.layers.Flatten(input_shape=(28,28)),\n",
        "    tf.keras.layers.Dense(128),\n",
        "    tf.keras.layers.Lambda(lambda x : tf.abs(x)),\n",
        "    tf.keras.layers.Dense(10 , activation='softmax')\n",
        "])\n",
        "\n",
        "model_lambda.compile(optimizer = RMSprop() , loss = categorical_crossentropy , metrics = ['acc'])\n",
        "model_lambda.summary()\n",
        "model_lambda.fit(train_data , train_label , epochs=5)\n",
        "model_lambda.evaluate(test_data , test_label)"
      ]
    },
    {
      "cell_type": "code",
      "execution_count": 7,
      "metadata": {
        "id": "98IH6RtWCj7e"
      },
      "outputs": [],
      "source": [
        "def myRelu(x):\n",
        "    return k.maximum(x , 0.0)"
      ]
    },
    {
      "cell_type": "code",
      "execution_count": 8,
      "metadata": {
        "colab": {
          "base_uri": "https://localhost:8080/"
        },
        "id": "0SSpUCylRRgc",
        "outputId": "8ca51d43-96a5-4861-9ff4-b41cd30cb031"
      },
      "outputs": [
        {
          "name": "stdout",
          "output_type": "stream",
          "text": [
            "Model: \"sequential_1\"\n",
            "_________________________________________________________________\n",
            " Layer (type)                Output Shape              Param #   \n",
            "=================================================================\n",
            " flatten_1 (Flatten)         (None, 784)               0         \n",
            "                                                                 \n",
            " dense_2 (Dense)             (None, 128)               100480    \n",
            "                                                                 \n",
            " lambda_1 (Lambda)           (None, 128)               0         \n",
            "                                                                 \n",
            " dense_3 (Dense)             (None, 10)                1290      \n",
            "                                                                 \n",
            "=================================================================\n",
            "Total params: 101770 (397.54 KB)\n",
            "Trainable params: 101770 (397.54 KB)\n",
            "Non-trainable params: 0 (0.00 Byte)\n",
            "_________________________________________________________________\n",
            "Epoch 1/5\n",
            "1875/1875 [==============================] - 3s 1ms/step - loss: 0.2538 - acc: 0.9273\n",
            "Epoch 2/5\n",
            "1875/1875 [==============================] - 3s 1ms/step - loss: 0.1175 - acc: 0.9664\n",
            "Epoch 3/5\n",
            "1875/1875 [==============================] - 3s 2ms/step - loss: 0.0860 - acc: 0.9754\n",
            "Epoch 4/5\n",
            "1875/1875 [==============================] - 3s 1ms/step - loss: 0.0693 - acc: 0.9798\n",
            "Epoch 5/5\n",
            "1875/1875 [==============================] - 3s 1ms/step - loss: 0.0575 - acc: 0.9834\n",
            "313/313 [==============================] - 0s 1ms/step - loss: 0.0786 - acc: 0.9770\n"
          ]
        },
        {
          "data": {
            "text/plain": [
              "[0.07860448211431503, 0.9769999980926514]"
            ]
          },
          "execution_count": 8,
          "metadata": {},
          "output_type": "execute_result"
        }
      ],
      "source": [
        "model_lambda_func = tf.keras.models.Sequential([\n",
        "    tf.keras.layers.Flatten(input_shape=(28,28)),\n",
        "    tf.keras.layers.Dense(128),\n",
        "    tf.keras.layers.Lambda(myRelu),\n",
        "    tf.keras.layers.Dense(10 , activation='softmax')\n",
        "])\n",
        "\n",
        "model_lambda_func.compile(optimizer = RMSprop() , loss = categorical_crossentropy , metrics = ['acc'])\n",
        "model_lambda_func.summary()\n",
        "model_lambda_func.fit(train_data , train_label , epochs=5)\n",
        "model_lambda_func.evaluate(test_data , test_label)"
      ]
    },
    {
      "cell_type": "code",
      "execution_count": null,
      "metadata": {},
      "outputs": [],
      "source": []
    }
  ],
  "metadata": {
    "accelerator": "GPU",
    "colab": {
      "name": "lambda_layer.ipynb",
      "provenance": []
    },
    "kernelspec": {
      "display_name": ".venv",
      "language": "python",
      "name": "python3"
    },
    "language_info": {
      "codemirror_mode": {
        "name": "ipython",
        "version": 3
      },
      "file_extension": ".py",
      "mimetype": "text/x-python",
      "name": "python",
      "nbconvert_exporter": "python",
      "pygments_lexer": "ipython3",
      "version": "3.8.2"
    }
  },
  "nbformat": 4,
  "nbformat_minor": 0
}
