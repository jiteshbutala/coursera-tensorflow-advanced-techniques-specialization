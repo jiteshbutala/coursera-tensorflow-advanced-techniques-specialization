{
  "cells": [
    {
      "cell_type": "code",
      "execution_count": 1,
      "metadata": {
        "id": "Wa4AXXw-mvuZ"
      },
      "outputs": [],
      "source": [
        "import tensorflow as tf\n",
        "import numpy as np"
      ]
    },
    {
      "cell_type": "code",
      "execution_count": 2,
      "metadata": {
        "id": "7MiHa1kcoezd"
      },
      "outputs": [],
      "source": [
        "class SimpleDense(tf.keras.layers.Layer):\n",
        "    def __init__(self , units):\n",
        "        #super(SimpleDense , self).__init__()\n",
        "        super().__init__()\n",
        "        self.units = units\n",
        "    def build(self , input_shape):\n",
        "        w_init = tf.random_normal_initializer()\n",
        "        self.w = tf.Variable(initial_value=w_init((input_shape[-1] , self.units)) , trainable=True , dtype=tf.float32 , name=\"kernal\")\n",
        "        b_init = tf.zeros_initializer()\n",
        "        self.b = tf.Variable(initial_value=b_init((self.units)) , trainable=True , dtype=tf.float32 , name=\"bias\")\n",
        "    def call(self , inputs):\n",
        "        return tf.multiply(inputs , self.w) + self.b"
      ]
    },
    {
      "cell_type": "code",
      "execution_count": 3,
      "metadata": {
        "colab": {
          "base_uri": "https://localhost:8080/"
        },
        "id": "3oddGL4Go2bD",
        "outputId": "67bbc660-f78b-4f55-aed8-45c336ce3133"
      },
      "outputs": [
        {
          "data": {
            "text/plain": [
              "[<tf.Variable 'simple_dense/kernal:0' shape=(1, 1) dtype=float32, numpy=array([[0.0107925]], dtype=float32)>,\n",
              " <tf.Variable 'simple_dense/bias:0' shape=(1,) dtype=float32, numpy=array([0.], dtype=float32)>]"
            ]
          },
          "execution_count": 3,
          "metadata": {},
          "output_type": "execute_result"
        }
      ],
      "source": [
        "dense = SimpleDense(units = 1)\n",
        "x = tf.zeros((1,1))\n",
        "y = dense(x)\n",
        "dense.variables"
      ]
    },
    {
      "cell_type": "code",
      "execution_count": 4,
      "metadata": {
        "colab": {
          "base_uri": "https://localhost:8080/"
        },
        "id": "YgEu8Zarp2l9",
        "outputId": "4dbc457c-8b29-437a-97e9-e98b5dfb4365"
      },
      "outputs": [
        {
          "data": {
            "text/plain": [
              "[<tf.Variable 'simple_dense_1/kernal:0' shape=(4, 4) dtype=float32, numpy=\n",
              " array([[-0.04179512,  0.07738461, -0.09104432,  0.04206534],\n",
              "        [-0.03869042, -0.06740576,  0.02050315,  0.05514893],\n",
              "        [-0.01246073, -0.04478059,  0.03579464,  0.03975098],\n",
              "        [ 0.01228325,  0.03696715,  0.06415047,  0.06232832]],\n",
              "       dtype=float32)>,\n",
              " <tf.Variable 'simple_dense_1/bias:0' shape=(4,) dtype=float32, numpy=array([0., 0., 0., 0.], dtype=float32)>]"
            ]
          },
          "execution_count": 4,
          "metadata": {},
          "output_type": "execute_result"
        }
      ],
      "source": [
        "dense = SimpleDense(units = 4)\n",
        "x = tf.zeros((4,4))\n",
        "y = dense(x)\n",
        "dense.variables"
      ]
    },
    {
      "cell_type": "code",
      "execution_count": null,
      "metadata": {},
      "outputs": [],
      "source": []
    }
  ],
  "metadata": {
    "colab": {
      "name": "customdense.ipynb",
      "provenance": []
    },
    "kernelspec": {
      "display_name": ".venv",
      "language": "python",
      "name": "python3"
    },
    "language_info": {
      "codemirror_mode": {
        "name": "ipython",
        "version": 3
      },
      "file_extension": ".py",
      "mimetype": "text/x-python",
      "name": "python",
      "nbconvert_exporter": "python",
      "pygments_lexer": "ipython3",
      "version": "3.8.2"
    }
  },
  "nbformat": 4,
  "nbformat_minor": 0
}
