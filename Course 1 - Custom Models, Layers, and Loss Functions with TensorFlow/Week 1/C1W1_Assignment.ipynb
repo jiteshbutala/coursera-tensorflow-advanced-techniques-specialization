{
 "cells": [
  {
   "cell_type": "markdown",
   "metadata": {
    "colab_type": "text",
    "id": "ZL_6GK8qX35J"
   },
   "source": [
    "\n",
    "\n",
    "# Week 1: Multiple Output Models using the Keras Functional API\n",
    "\n",
    "Welcome to the first programming assignment of the course! Your task will be to use the Keras functional API to train a model to predict two outputs. For this lab, you will use the **[Wine Quality Dataset](https://archive.ics.uci.edu/ml/datasets/Wine+Quality)** from the **UCI machine learning repository**. It has separate datasets for red wine and white wine.\n",
    "\n",
    "Normally, the wines are classified into one of the quality ratings specified in the attributes. In this exercise, you will combine the two datasets to predict the wine quality and whether the wine is red or white solely from the attributes. \n",
    "\n",
    "You will model wine quality estimations as a regression problem and wine type detection as a binary classification problem.\n",
    "\n",
    "#### Please complete sections that are marked **(TODO)**"
   ]
  },
  {
   "cell_type": "markdown",
   "metadata": {
    "colab_type": "text",
    "id": "obdcD6urYBY9"
   },
   "source": [
    "## Imports"
   ]
  },
  {
   "cell_type": "code",
   "execution_count": 1,
   "metadata": {
    "colab": {},
    "colab_type": "code",
    "id": "t8N3pcTQ5oQI"
   },
   "outputs": [],
   "source": [
    "import tensorflow as tf\n",
    "from tensorflow.keras.models import Model\n",
    "from tensorflow.keras.layers import Dense, Input\n",
    "\n",
    "import numpy as np\n",
    "import matplotlib.pyplot as plt\n",
    "import pandas as pd\n",
    "from sklearn.model_selection import train_test_split\n",
    "from sklearn.metrics import confusion_matrix\n",
    "import itertools\n",
    "\n",
    "import utils"
   ]
  },
  {
   "cell_type": "markdown",
   "metadata": {
    "colab_type": "text",
    "id": "gQMERzWQYpgm"
   },
   "source": [
    "## Load Dataset\n",
    "\n",
    "\n",
    "You will now download the dataset from the [UCI Machine Learning Repository](https://archive.ics.uci.edu/ml/index.php). \n",
    "\n",
    "### Pre-process the white wine dataset (TODO)\n",
    "You will add a new column named `is_red` in your dataframe to indicate if the wine is white or red. \n",
    "- In the white wine dataset, you will fill the column `is_red` with  zeros (0)."
   ]
  },
  {
   "cell_type": "code",
   "execution_count": 2,
   "metadata": {
    "colab": {},
    "colab_type": "code",
    "deletable": false,
    "id": "2qYAjKXCd4RH",
    "nbgrader": {
     "cell_type": "code",
     "checksum": "cb9f284ba6255170fe04a309a407d72d",
     "grade": false,
     "grade_id": "cell-e5bfa0f152d9a21f",
     "locked": false,
     "schema_version": 3,
     "solution": true,
     "task": false
    }
   },
   "outputs": [],
   "source": [
    "# Please uncomment all lines in this cell and replace those marked with `# YOUR CODE HERE`.\n",
    "# You can select all lines in this code cell with Ctrl+A (Windows/Linux) or Cmd+A (Mac), then press Ctrl+/ (Windows/Linux) or Cmd+/ (Mac) to uncomment.\n",
    "\n",
    "# URL of the white wine dataset\n",
    "#URL = 'http://archive.ics.uci.edu/ml/machine-learning-databases/wine-quality/winequality-white.csv'\n",
    "URL = './data/winequality-white.csv'\n",
    "\n",
    "# load the dataset from the URL\n",
    "white_df = pd.read_csv(URL, sep=\";\")\n",
    "\n",
    "# fill the `is_red` column with zeros.\n",
    "white_df[\"is_red\"] = 0\n",
    "\n",
    "# keep only the first of duplicate items\n",
    "white_df = white_df.drop_duplicates(keep='first')\n"
   ]
  },
  {
   "cell_type": "code",
   "execution_count": 3,
   "metadata": {
    "deletable": false,
    "editable": false,
    "nbgrader": {
     "cell_type": "code",
     "checksum": "defe38d6ec58fd31cd67b89e46c4373f",
     "grade": true,
     "grade_id": "cell-30575e713b55fc51",
     "locked": true,
     "points": 1,
     "schema_version": 3,
     "solution": false,
     "task": false
    }
   },
   "outputs": [
    {
     "name": "stdout",
     "output_type": "stream",
     "text": [
      "\u001b[92m All public tests passed\n"
     ]
    }
   ],
   "source": [
    "# You can click `File -> Open` in the menu above and open the `utils.py` file \n",
    "# in case you want to inspect the unit tests being used for each graded function.\n",
    "utils.test_white_df(white_df)"
   ]
  },
  {
   "cell_type": "code",
   "execution_count": 4,
   "metadata": {
    "colab": {},
    "colab_type": "code",
    "id": "OQHK0ohBQRCk"
   },
   "outputs": [
    {
     "name": "stdout",
     "output_type": "stream",
     "text": [
      "8.8\n",
      "9.1\n"
     ]
    }
   ],
   "source": [
    "print(white_df.alcohol[0])\n",
    "print(white_df.alcohol[100])\n",
    "\n",
    "# EXPECTED OUTPUT\n",
    "# 8.8\n",
    "# 9.1"
   ]
  },
  {
   "cell_type": "markdown",
   "metadata": {},
   "source": [
    "### Pre-process the red wine dataset (TODO)\n",
    "- In the red wine dataset, you will fill in the column `is_red` with ones (1)."
   ]
  },
  {
   "cell_type": "code",
   "execution_count": 5,
   "metadata": {
    "colab": {},
    "colab_type": "code",
    "deletable": false,
    "id": "8y3QxKwBed8v",
    "nbgrader": {
     "cell_type": "code",
     "checksum": "be72275f78e2c2d0038dde9aa63f8d4f",
     "grade": false,
     "grade_id": "cell-e47a40f306593274",
     "locked": false,
     "schema_version": 3,
     "solution": true,
     "task": false
    }
   },
   "outputs": [],
   "source": [
    "# Please uncomment all lines in this cell and replace those marked with `# YOUR CODE HERE`.\n",
    "# You can select all lines in this code cell with Ctrl+A (Windows/Linux) or Cmd+A (Mac), then press Ctrl+/ (Windows/Linux) or Cmd+/ (Mac) to uncomment.\n",
    "\n",
    "# URL of the red wine dataset\n",
    "#URL = 'http://archive.ics.uci.edu/ml/machine-learning-databases/wine-quality/winequality-red.csv'\n",
    "URL = './data/winequality-red.csv'\n",
    "\n",
    "# load the dataset from the URL\n",
    "red_df = pd.read_csv(URL, sep=\";\")\n",
    "\n",
    "# fill the `is_red` column with ones.\n",
    "red_df[\"is_red\"] = 1\n",
    "\n",
    "# keep only the first of duplicate items\n",
    "red_df = red_df.drop_duplicates(keep='first')"
   ]
  },
  {
   "cell_type": "code",
   "execution_count": 6,
   "metadata": {
    "deletable": false,
    "editable": false,
    "nbgrader": {
     "cell_type": "code",
     "checksum": "d8e0c91b0fd668b63ba74a8f2f958b59",
     "grade": true,
     "grade_id": "cell-2a75937adcc0c25b",
     "locked": true,
     "points": 1,
     "schema_version": 3,
     "solution": false,
     "task": false
    }
   },
   "outputs": [
    {
     "name": "stdout",
     "output_type": "stream",
     "text": [
      "\u001b[92m All public tests passed\n"
     ]
    }
   ],
   "source": [
    "utils.test_red_df(red_df)"
   ]
  },
  {
   "cell_type": "code",
   "execution_count": 7,
   "metadata": {
    "colab": {},
    "colab_type": "code",
    "id": "zsB3LUzNQpo_"
   },
   "outputs": [
    {
     "name": "stdout",
     "output_type": "stream",
     "text": [
      "9.4\n",
      "10.2\n"
     ]
    }
   ],
   "source": [
    "print(red_df.alcohol[0])\n",
    "print(red_df.alcohol[100])\n",
    "\n",
    "# EXPECTED OUTPUT\n",
    "# 9.4\n",
    "# 10.2"
   ]
  },
  {
   "cell_type": "markdown",
   "metadata": {
    "colab_type": "text",
    "id": "2G8B-NYuM6-f"
   },
   "source": [
    "### Concatenate the datasets\n",
    "\n",
    "Next, concatenate the red and white wine dataframes."
   ]
  },
  {
   "cell_type": "code",
   "execution_count": 8,
   "metadata": {
    "colab": {},
    "colab_type": "code",
    "id": "YpQrOjJbfN3m"
   },
   "outputs": [],
   "source": [
    "df = pd.concat([red_df, white_df], ignore_index=True)"
   ]
  },
  {
   "cell_type": "code",
   "execution_count": 9,
   "metadata": {
    "colab": {},
    "colab_type": "code",
    "id": "Se2dTmThQyjb"
   },
   "outputs": [
    {
     "name": "stdout",
     "output_type": "stream",
     "text": [
      "9.4\n",
      "9.5\n"
     ]
    }
   ],
   "source": [
    "print(df.alcohol[0])\n",
    "print(df.alcohol[100])\n",
    "\n",
    "# EXPECTED OUTPUT\n",
    "# 9.4\n",
    "# 9.5"
   ]
  },
  {
   "cell_type": "code",
   "execution_count": 10,
   "metadata": {
    "colab": {},
    "colab_type": "code",
    "id": "wx6y3rPpQv4k"
   },
   "outputs": [],
   "source": [
    "# NOTE: In a real-world scenario, you should shuffle the data.\n",
    "# YOU ARE NOT going to do that here because we want to test\n",
    "# with deterministic data. But if you want the code to do it,\n",
    "# it's in the commented line below:\n",
    "\n",
    "#df = df.iloc[np.random.permutation(len(df))]"
   ]
  },
  {
   "cell_type": "markdown",
   "metadata": {
    "colab_type": "text",
    "id": "-EqIcbg5M_n1"
   },
   "source": [
    "This will chart the quality of the wines."
   ]
  },
  {
   "cell_type": "code",
   "execution_count": 11,
   "metadata": {
    "colab": {},
    "colab_type": "code",
    "id": "IsvK0-Sgy17C"
   },
   "outputs": [
    {
     "data": {
      "image/png": "[encoded data removed]",
      "text/plain": [
       "<Figure size 640x480 with 1 Axes>"
      ]
     },
     "metadata": {},
     "output_type": "display_data"
    }
   ],
   "source": [
    "df['quality'].hist(bins=20);"
   ]
  },
  {
   "cell_type": "markdown",
   "metadata": {
    "colab_type": "text",
    "id": "Nut1rmYLzf-p"
   },
   "source": [
    "### Imbalanced data (TODO)\n",
    "You can see from the plot above that the wine quality dataset is imbalanced. \n",
    "- Since there are very few observations with quality equal to 3, 4, 8 and 9, you can drop these observations from your dataset. \n",
    "- You can do this by removing data belonging to all classes except those > 4 and < 8."
   ]
  },
  {
   "cell_type": "code",
   "execution_count": 12,
   "metadata": {
    "colab": {},
    "colab_type": "code",
    "deletable": false,
    "id": "doH9_-gnf3sz",
    "nbgrader": {
     "cell_type": "code",
     "checksum": "d9ba9fc3a3ca02ccc567be33652b80fe",
     "grade": false,
     "grade_id": "cell-6a3e9db696f6827b",
     "locked": false,
     "schema_version": 3,
     "solution": true,
     "task": false
    }
   },
   "outputs": [],
   "source": [
    "# Please uncomment all lines in this cell and replace those marked with `# YOUR CODE HERE`.\n",
    "# You can select all lines in this code cell with Ctrl+A (Windows/Linux) or Cmd+A (Mac), then press Ctrl+/ (Windows/Linux) or Cmd+/ (Mac) to uncomment.\n",
    "\n",
    "# get data with wine quality greater than 4 and less than 8\n",
    "df = df[(df['quality'] > 4) & (df['quality'] < 8 )]\n",
    "\n",
    "# reset index and drop the old one\n",
    "df = df.reset_index(drop=True)"
   ]
  },
  {
   "cell_type": "code",
   "execution_count": 13,
   "metadata": {
    "deletable": false,
    "editable": false,
    "nbgrader": {
     "cell_type": "code",
     "checksum": "281e1d86a4803560ed5892cd7eda4c01",
     "grade": true,
     "grade_id": "cell-aed3da719d4682c7",
     "locked": true,
     "points": 1,
     "schema_version": 3,
     "solution": false,
     "task": false
    }
   },
   "outputs": [
    {
     "name": "stdout",
     "output_type": "stream",
     "text": [
      "\u001b[92m All public tests passed\n"
     ]
    }
   ],
   "source": [
    "utils.test_df_drop(df)"
   ]
  },
  {
   "cell_type": "code",
   "execution_count": 14,
   "metadata": {
    "colab": {},
    "colab_type": "code",
    "id": "xNR1iAlMRPXO"
   },
   "outputs": [
    {
     "name": "stdout",
     "output_type": "stream",
     "text": [
      "9.4\n",
      "10.9\n"
     ]
    }
   ],
   "source": [
    "print(df.alcohol[0])\n",
    "print(df.alcohol[100])\n",
    "\n",
    "# EXPECTED OUTPUT\n",
    "# 9.4\n",
    "# 10.9"
   ]
  },
  {
   "cell_type": "markdown",
   "metadata": {
    "colab_type": "text",
    "id": "cwhuRpnVRTzG"
   },
   "source": [
    "You can plot again to see the new range of data and quality"
   ]
  },
  {
   "cell_type": "code",
   "execution_count": 15,
   "metadata": {
    "colab": {},
    "colab_type": "code",
    "id": "857ygzZiLgGg"
   },
   "outputs": [
    {
     "data": {
      "image/png": "[encoded data removed]",
      "text/plain": [
       "<Figure size 640x480 with 1 Axes>"
      ]
     },
     "metadata": {},
     "output_type": "display_data"
    }
   ],
   "source": [
    "df['quality'].hist(bins=20);"
   ]
  },
  {
   "cell_type": "markdown",
   "metadata": {
    "colab_type": "text",
    "id": "n3k0vqSsp84t"
   },
   "source": [
    "### Train Test Split (TODO)\n",
    "\n",
    "Next, you can split the datasets into training, test and validation datasets.\n",
    "- The data frame should be split 80:20 into `train` and `test` sets.\n",
    "- The resulting `train` should then be split 80:20 into `train` and `val` sets.\n",
    "- The `train_test_split` parameter `test_size` takes a float value that ranges between 0. and 1, and represents the proportion of the dataset that is allocated to the test set.  The rest of the data is allocated to the training set."
   ]
  },
  {
   "cell_type": "code",
   "execution_count": 16,
   "metadata": {
    "colab": {},
    "colab_type": "code",
    "deletable": false,
    "id": "PAVIf2-fgRVY",
    "nbgrader": {
     "cell_type": "code",
     "checksum": "7f5738f4fb51d65adc9a8acbdf2b9970",
     "grade": false,
     "grade_id": "cell-91946cadf745206b",
     "locked": false,
     "schema_version": 3,
     "solution": true,
     "task": false
    }
   },
   "outputs": [],
   "source": [
    "# Please uncomment all lines in this cell and replace those marked with `# YOUR CODE HERE`.\n",
    "# You can select all lines in this code cell with Ctrl+A (Windows/Linux) or Cmd+A (Mac), then press Ctrl+/ (Windows/Linux) or Cmd+/ (Mac) to uncomment.\n",
    "\n",
    "# Please do not change the random_state parameter. This is needed for grading.\n",
    "\n",
    "# split df into 80:20 train and test sets\n",
    "train, test = train_test_split(df, test_size=0.2, random_state = 1)\n",
    "                               \n",
    "# split train into 80:20 train and val sets\n",
    "train, val = train_test_split(train, test_size=0.2, random_state = 1)"
   ]
  },
  {
   "cell_type": "code",
   "execution_count": 17,
   "metadata": {
    "colab": {},
    "colab_type": "code",
    "deletable": false,
    "editable": false,
    "id": "57h9LcEzRWpk",
    "nbgrader": {
     "cell_type": "code",
     "checksum": "42adbe9e66efac7c7a5f8cd73ac92f22",
     "grade": true,
     "grade_id": "cell-64b8b38cd0b965f6",
     "locked": true,
     "points": 1,
     "schema_version": 3,
     "solution": false,
     "task": false
    }
   },
   "outputs": [
    {
     "name": "stdout",
     "output_type": "stream",
     "text": [
      "\u001b[92m All public tests passed\n"
     ]
    }
   ],
   "source": [
    "utils.test_data_sizes(train.size, test.size, val.size)"
   ]
  },
  {
   "cell_type": "markdown",
   "metadata": {
    "colab_type": "text",
    "id": "RwTNu4KFqG-K"
   },
   "source": [
    "Here's where you can explore the training stats. You can pop the labels 'is_red' and 'quality' from the data as these will be used as the labels\n"
   ]
  },
  {
   "cell_type": "code",
   "execution_count": 18,
   "metadata": {
    "colab": {},
    "colab_type": "code",
    "id": "Y_afyhhHM6WQ"
   },
   "outputs": [],
   "source": [
    "train_stats = train.describe()\n",
    "train_stats.pop('is_red')\n",
    "train_stats.pop('quality')\n",
    "train_stats = train_stats.transpose()"
   ]
  },
  {
   "cell_type": "markdown",
   "metadata": {
    "colab_type": "text",
    "id": "ahvbYm4fNqSt"
   },
   "source": [
    "Explore the training stats!"
   ]
  },
  {
   "cell_type": "code",
   "execution_count": 19,
   "metadata": {
    "colab": {},
    "colab_type": "code",
    "id": "n_gAtPjZ0otF"
   },
   "outputs": [
    {
     "data": {
      "text/html": [
       "<div>\n",
       "<style scoped>\n",
       "    .dataframe tbody tr th:only-of-type {\n",
       "        vertical-align: middle;\n",
       "    }\n",
       "\n",
       "    .dataframe tbody tr th {\n",
       "        vertical-align: top;\n",
       "    }\n",
       "\n",
       "    .dataframe thead th {\n",
       "        text-align: right;\n",
       "    }\n",
       "</style>\n",
       "<table border=\"1\" class=\"dataframe\">\n",
       "  <thead>\n",
       "    <tr style=\"text-align: right;\">\n",
       "      <th></th>\n",
       "      <th>count</th>\n",
       "      <th>mean</th>\n",
       "      <th>std</th>\n",
       "      <th>min</th>\n",
       "      <th>25%</th>\n",
       "      <th>50%</th>\n",
       "      <th>75%</th>\n",
       "      <th>max</th>\n",
       "    </tr>\n",
       "  </thead>\n",
       "  <tbody>\n",
       "    <tr>\n",
       "      <th>fixed acidity</th>\n",
       "      <td>3155.0</td>\n",
       "      <td>7.221616</td>\n",
       "      <td>1.325297</td>\n",
       "      <td>3.80000</td>\n",
       "      <td>6.40000</td>\n",
       "      <td>7.00000</td>\n",
       "      <td>7.7000</td>\n",
       "      <td>15.60000</td>\n",
       "    </tr>\n",
       "    <tr>\n",
       "      <th>volatile acidity</th>\n",
       "      <td>3155.0</td>\n",
       "      <td>0.338929</td>\n",
       "      <td>0.162476</td>\n",
       "      <td>0.08000</td>\n",
       "      <td>0.23000</td>\n",
       "      <td>0.29000</td>\n",
       "      <td>0.4000</td>\n",
       "      <td>1.24000</td>\n",
       "    </tr>\n",
       "    <tr>\n",
       "      <th>citric acid</th>\n",
       "      <td>3155.0</td>\n",
       "      <td>0.321569</td>\n",
       "      <td>0.147970</td>\n",
       "      <td>0.00000</td>\n",
       "      <td>0.25000</td>\n",
       "      <td>0.31000</td>\n",
       "      <td>0.4000</td>\n",
       "      <td>1.66000</td>\n",
       "    </tr>\n",
       "    <tr>\n",
       "      <th>residual sugar</th>\n",
       "      <td>3155.0</td>\n",
       "      <td>5.155911</td>\n",
       "      <td>4.639632</td>\n",
       "      <td>0.60000</td>\n",
       "      <td>1.80000</td>\n",
       "      <td>2.80000</td>\n",
       "      <td>7.6500</td>\n",
       "      <td>65.80000</td>\n",
       "    </tr>\n",
       "    <tr>\n",
       "      <th>chlorides</th>\n",
       "      <td>3155.0</td>\n",
       "      <td>0.056976</td>\n",
       "      <td>0.036802</td>\n",
       "      <td>0.01200</td>\n",
       "      <td>0.03800</td>\n",
       "      <td>0.04700</td>\n",
       "      <td>0.0660</td>\n",
       "      <td>0.61100</td>\n",
       "    </tr>\n",
       "    <tr>\n",
       "      <th>free sulfur dioxide</th>\n",
       "      <td>3155.0</td>\n",
       "      <td>30.388590</td>\n",
       "      <td>17.236784</td>\n",
       "      <td>1.00000</td>\n",
       "      <td>17.00000</td>\n",
       "      <td>28.00000</td>\n",
       "      <td>41.0000</td>\n",
       "      <td>131.00000</td>\n",
       "    </tr>\n",
       "    <tr>\n",
       "      <th>total sulfur dioxide</th>\n",
       "      <td>3155.0</td>\n",
       "      <td>115.062282</td>\n",
       "      <td>56.706617</td>\n",
       "      <td>6.00000</td>\n",
       "      <td>75.00000</td>\n",
       "      <td>117.00000</td>\n",
       "      <td>156.0000</td>\n",
       "      <td>344.00000</td>\n",
       "    </tr>\n",
       "    <tr>\n",
       "      <th>density</th>\n",
       "      <td>3155.0</td>\n",
       "      <td>0.994633</td>\n",
       "      <td>0.003005</td>\n",
       "      <td>0.98711</td>\n",
       "      <td>0.99232</td>\n",
       "      <td>0.99481</td>\n",
       "      <td>0.9968</td>\n",
       "      <td>1.03898</td>\n",
       "    </tr>\n",
       "    <tr>\n",
       "      <th>pH</th>\n",
       "      <td>3155.0</td>\n",
       "      <td>3.223201</td>\n",
       "      <td>0.161272</td>\n",
       "      <td>2.72000</td>\n",
       "      <td>3.11000</td>\n",
       "      <td>3.21000</td>\n",
       "      <td>3.3300</td>\n",
       "      <td>4.01000</td>\n",
       "    </tr>\n",
       "    <tr>\n",
       "      <th>sulphates</th>\n",
       "      <td>3155.0</td>\n",
       "      <td>0.534051</td>\n",
       "      <td>0.149149</td>\n",
       "      <td>0.22000</td>\n",
       "      <td>0.43000</td>\n",
       "      <td>0.51000</td>\n",
       "      <td>0.6000</td>\n",
       "      <td>1.95000</td>\n",
       "    </tr>\n",
       "    <tr>\n",
       "      <th>alcohol</th>\n",
       "      <td>3155.0</td>\n",
       "      <td>10.504466</td>\n",
       "      <td>1.154654</td>\n",
       "      <td>8.50000</td>\n",
       "      <td>9.50000</td>\n",
       "      <td>10.30000</td>\n",
       "      <td>11.3000</td>\n",
       "      <td>14.00000</td>\n",
       "    </tr>\n",
       "  </tbody>\n",
       "</table>\n",
       "</div>"
      ],
      "text/plain": [
       "                       count        mean        std      min       25%  \\\n",
       "fixed acidity         3155.0    7.221616   1.325297  3.80000   6.40000   \n",
       "volatile acidity      3155.0    0.338929   0.162476  0.08000   0.23000   \n",
       "citric acid           3155.0    0.321569   0.147970  0.00000   0.25000   \n",
       "residual sugar        3155.0    5.155911   4.639632  0.60000   1.80000   \n",
       "chlorides             3155.0    0.056976   0.036802  0.01200   0.03800   \n",
       "free sulfur dioxide   3155.0   30.388590  17.236784  1.00000  17.00000   \n",
       "total sulfur dioxide  3155.0  115.062282  56.706617  6.00000  75.00000   \n",
       "density               3155.0    0.994633   0.003005  0.98711   0.99232   \n",
       "pH                    3155.0    3.223201   0.161272  2.72000   3.11000   \n",
       "sulphates             3155.0    0.534051   0.149149  0.22000   0.43000   \n",
       "alcohol               3155.0   10.504466   1.154654  8.50000   9.50000   \n",
       "\n",
       "                            50%       75%        max  \n",
       "fixed acidity           7.00000    7.7000   15.60000  \n",
       "volatile acidity        0.29000    0.4000    1.24000  \n",
       "citric acid             0.31000    0.4000    1.66000  \n",
       "residual sugar          2.80000    7.6500   65.80000  \n",
       "chlorides               0.04700    0.0660    0.61100  \n",
       "free sulfur dioxide    28.00000   41.0000  131.00000  \n",
       "total sulfur dioxide  117.00000  156.0000  344.00000  \n",
       "density                 0.99481    0.9968    1.03898  \n",
       "pH                      3.21000    3.3300    4.01000  \n",
       "sulphates               0.51000    0.6000    1.95000  \n",
       "alcohol                10.30000   11.3000   14.00000  "
      ]
     },
     "execution_count": 19,
     "metadata": {},
     "output_type": "execute_result"
    }
   ],
   "source": [
    "train_stats"
   ]
  },
  {
   "cell_type": "markdown",
   "metadata": {
    "colab_type": "text",
    "id": "bGPvt9jir_HC"
   },
   "source": [
    "### Get the labels (TODO)\n",
    "\n",
    "The features and labels are currently in the same dataframe.\n",
    "- You will want to store the label columns `is_red` and `quality` separately from the feature columns.  \n",
    "- The following function, `format_output`, gets these two columns from the dataframe (it's given to you).\n",
    "- `format_output` also formats the data into numpy arrays. \n",
    "- Please use the `format_output` and apply it to the `train`, `val` and `test` sets to get dataframes for the labels."
   ]
  },
  {
   "cell_type": "code",
   "execution_count": 20,
   "metadata": {
    "colab": {},
    "colab_type": "code",
    "id": "Z_fs14XQqZVP"
   },
   "outputs": [],
   "source": [
    "def format_output(data):\n",
    "    is_red = data.pop('is_red')\n",
    "    is_red = np.array(is_red)\n",
    "    quality = data.pop('quality')\n",
    "    quality = np.array(quality)\n",
    "    return (quality, is_red)"
   ]
  },
  {
   "cell_type": "code",
   "execution_count": 21,
   "metadata": {
    "colab": {},
    "colab_type": "code",
    "deletable": false,
    "id": "8L3ZZe1fQicm",
    "nbgrader": {
     "cell_type": "code",
     "checksum": "7a86809e54895a816434c48dc903f55d",
     "grade": false,
     "grade_id": "cell-5c30fa2c2a354b0f",
     "locked": false,
     "schema_version": 3,
     "solution": true,
     "task": false
    }
   },
   "outputs": [],
   "source": [
    "# Please uncomment all lines in this cell and replace those marked with `# YOUR CODE HERE`.\n",
    "# You can select all lines in this code cell with Ctrl+A (Windows/Linux) or Cmd+A (Mac), then press Ctrl+/ (Windows/Linux) or Cmd+/ (Mac) to uncomment.\n",
    "\n",
    "# format the output of the train set\n",
    "train_Y = format_output(train)\n",
    "\n",
    "# format the output of the val set\n",
    "val_Y = format_output(val)\n",
    "    \n",
    "# format the output of the test set\n",
    "test_Y = format_output(test)"
   ]
  },
  {
   "cell_type": "code",
   "execution_count": 22,
   "metadata": {
    "deletable": false,
    "editable": false,
    "nbgrader": {
     "cell_type": "code",
     "checksum": "359cabbafaed14ec9bbc1e57a7b6f32c",
     "grade": true,
     "grade_id": "cell-4977d8befb80f56b",
     "locked": true,
     "points": 1,
     "schema_version": 3,
     "solution": false,
     "task": false
    }
   },
   "outputs": [
    {
     "name": "stdout",
     "output_type": "stream",
     "text": [
      "\u001b[92m All public tests passed\n"
     ]
    }
   ],
   "source": [
    "utils.test_format_output(df, train_Y, val_Y, test_Y)"
   ]
  },
  {
   "cell_type": "markdown",
   "metadata": {},
   "source": [
    "Notice that after you get the labels, the `train`, `val` and `test` dataframes no longer contain the label columns, and contain just the feature columns.\n",
    "- This is because you used `.pop` in the `format_output` function."
   ]
  },
  {
   "cell_type": "code",
   "execution_count": 23,
   "metadata": {},
   "outputs": [
    {
     "data": {
      "text/html": [
       "<div>\n",
       "<style scoped>\n",
       "    .dataframe tbody tr th:only-of-type {\n",
       "        vertical-align: middle;\n",
       "    }\n",
       "\n",
       "    .dataframe tbody tr th {\n",
       "        vertical-align: top;\n",
       "    }\n",
       "\n",
       "    .dataframe thead th {\n",
       "        text-align: right;\n",
       "    }\n",
       "</style>\n",
       "<table border=\"1\" class=\"dataframe\">\n",
       "  <thead>\n",
       "    <tr style=\"text-align: right;\">\n",
       "      <th></th>\n",
       "      <th>fixed acidity</th>\n",
       "      <th>volatile acidity</th>\n",
       "      <th>citric acid</th>\n",
       "      <th>residual sugar</th>\n",
       "      <th>chlorides</th>\n",
       "      <th>free sulfur dioxide</th>\n",
       "      <th>total sulfur dioxide</th>\n",
       "      <th>density</th>\n",
       "      <th>pH</th>\n",
       "      <th>sulphates</th>\n",
       "      <th>alcohol</th>\n",
       "    </tr>\n",
       "  </thead>\n",
       "  <tbody>\n",
       "    <tr>\n",
       "      <th>225</th>\n",
       "      <td>7.5</td>\n",
       "      <td>0.65</td>\n",
       "      <td>0.18</td>\n",
       "      <td>7.0</td>\n",
       "      <td>0.088</td>\n",
       "      <td>27.0</td>\n",
       "      <td>94.0</td>\n",
       "      <td>0.99915</td>\n",
       "      <td>3.38</td>\n",
       "      <td>0.77</td>\n",
       "      <td>9.4</td>\n",
       "    </tr>\n",
       "    <tr>\n",
       "      <th>3557</th>\n",
       "      <td>6.3</td>\n",
       "      <td>0.27</td>\n",
       "      <td>0.29</td>\n",
       "      <td>12.2</td>\n",
       "      <td>0.044</td>\n",
       "      <td>59.0</td>\n",
       "      <td>196.0</td>\n",
       "      <td>0.99782</td>\n",
       "      <td>3.14</td>\n",
       "      <td>0.40</td>\n",
       "      <td>8.8</td>\n",
       "    </tr>\n",
       "    <tr>\n",
       "      <th>3825</th>\n",
       "      <td>8.8</td>\n",
       "      <td>0.27</td>\n",
       "      <td>0.25</td>\n",
       "      <td>5.0</td>\n",
       "      <td>0.024</td>\n",
       "      <td>52.0</td>\n",
       "      <td>99.0</td>\n",
       "      <td>0.99250</td>\n",
       "      <td>2.87</td>\n",
       "      <td>0.49</td>\n",
       "      <td>11.4</td>\n",
       "    </tr>\n",
       "    <tr>\n",
       "      <th>1740</th>\n",
       "      <td>6.4</td>\n",
       "      <td>0.45</td>\n",
       "      <td>0.07</td>\n",
       "      <td>1.1</td>\n",
       "      <td>0.030</td>\n",
       "      <td>10.0</td>\n",
       "      <td>131.0</td>\n",
       "      <td>0.99050</td>\n",
       "      <td>2.97</td>\n",
       "      <td>0.28</td>\n",
       "      <td>10.8</td>\n",
       "    </tr>\n",
       "    <tr>\n",
       "      <th>1221</th>\n",
       "      <td>7.2</td>\n",
       "      <td>0.53</td>\n",
       "      <td>0.13</td>\n",
       "      <td>2.0</td>\n",
       "      <td>0.058</td>\n",
       "      <td>18.0</td>\n",
       "      <td>22.0</td>\n",
       "      <td>0.99573</td>\n",
       "      <td>3.21</td>\n",
       "      <td>0.68</td>\n",
       "      <td>9.9</td>\n",
       "    </tr>\n",
       "  </tbody>\n",
       "</table>\n",
       "</div>"
      ],
      "text/plain": [
       "      fixed acidity  volatile acidity  citric acid  residual sugar  chlorides  \\\n",
       "225             7.5              0.65         0.18             7.0      0.088   \n",
       "3557            6.3              0.27         0.29            12.2      0.044   \n",
       "3825            8.8              0.27         0.25             5.0      0.024   \n",
       "1740            6.4              0.45         0.07             1.1      0.030   \n",
       "1221            7.2              0.53         0.13             2.0      0.058   \n",
       "\n",
       "      free sulfur dioxide  total sulfur dioxide  density    pH  sulphates  \\\n",
       "225                  27.0                  94.0  0.99915  3.38       0.77   \n",
       "3557                 59.0                 196.0  0.99782  3.14       0.40   \n",
       "3825                 52.0                  99.0  0.99250  2.87       0.49   \n",
       "1740                 10.0                 131.0  0.99050  2.97       0.28   \n",
       "1221                 18.0                  22.0  0.99573  3.21       0.68   \n",
       "\n",
       "      alcohol  \n",
       "225       9.4  \n",
       "3557      8.8  \n",
       "3825     11.4  \n",
       "1740     10.8  \n",
       "1221      9.9  "
      ]
     },
     "execution_count": 23,
     "metadata": {},
     "output_type": "execute_result"
    }
   ],
   "source": [
    "train.head()"
   ]
  },
  {
   "cell_type": "markdown",
   "metadata": {
    "colab_type": "text",
    "id": "hEdbrruAsN1D"
   },
   "source": [
    "### Normalize the data (TODO)\n",
    "\n",
    "Next, you can normalize the data, x, using the formula:\n",
    "$$x_{norm} = \\frac{x - \\mu}{\\sigma}$$\n",
    "- The `norm` function is defined for you.\n",
    "- Please apply the `norm` function to normalize the dataframes that contains the feature columns of `train`, `val` and `test` sets."
   ]
  },
  {
   "cell_type": "code",
   "execution_count": 24,
   "metadata": {
    "colab": {},
    "colab_type": "code",
    "id": "WWiZPAHCLjUs"
   },
   "outputs": [],
   "source": [
    "def norm(x):\n",
    "    return (x - train_stats['mean']) / train_stats['std']"
   ]
  },
  {
   "cell_type": "code",
   "execution_count": 25,
   "metadata": {
    "colab": {},
    "colab_type": "code",
    "deletable": false,
    "id": "JEaOi2I2Lk69",
    "nbgrader": {
     "cell_type": "code",
     "checksum": "6bc0cdcb563d192f271067aa3373ff32",
     "grade": false,
     "grade_id": "cell-d8416d975c371095",
     "locked": false,
     "schema_version": 3,
     "solution": true,
     "task": false
    }
   },
   "outputs": [],
   "source": [
    "# Please uncomment all lines in this cell and replace those marked with `# YOUR CODE HERE`.\n",
    "# You can select all lines in this code cell with Ctrl+A (Windows/Linux) or Cmd+A (Mac), then press Ctrl+/ (Windows/Linux) or Cmd+/ (Mac) to uncomment.\n",
    "\n",
    "# normalize the train set\n",
    "norm_train_X = norm(train)\n",
    "    \n",
    "# normalize the val set\n",
    "norm_val_X = norm(val)\n",
    "    \n",
    "# normalize the test set\n",
    "norm_test_X = norm(test)"
   ]
  },
  {
   "cell_type": "code",
   "execution_count": 26,
   "metadata": {
    "deletable": false,
    "editable": false,
    "nbgrader": {
     "cell_type": "code",
     "checksum": "4f567db45bf40191601780379cc100b8",
     "grade": true,
     "grade_id": "cell-97fad979d157529b",
     "locked": true,
     "points": 1,
     "schema_version": 3,
     "solution": false,
     "task": false
    }
   },
   "outputs": [
    {
     "name": "stdout",
     "output_type": "stream",
     "text": [
      "\u001b[92m All public tests passed\n"
     ]
    }
   ],
   "source": [
    "utils.test_norm(norm_train_X, norm_val_X, norm_test_X, train, val, test)"
   ]
  },
  {
   "cell_type": "markdown",
   "metadata": {
    "colab_type": "text",
    "id": "hzykDwQhsaPO"
   },
   "source": [
    "## Define the Model (TODO)\n",
    "\n",
    "Define the model using the functional API. The base model will be 2 `Dense` layers of 128 neurons each, and have the `'relu'` activation.\n",
    "- Check out the documentation for [tf.keras.layers.Dense](https://www.tensorflow.org/api_docs/python/tf/keras/layers/Dense)"
   ]
  },
  {
   "cell_type": "code",
   "execution_count": 27,
   "metadata": {
    "colab": {},
    "colab_type": "code",
    "deletable": false,
    "id": "Rhcns3oTFkM6",
    "nbgrader": {
     "cell_type": "code",
     "checksum": "74b031247e569526552bf13a034a1c07",
     "grade": false,
     "grade_id": "cell-73fceedad1fe351c",
     "locked": false,
     "schema_version": 3,
     "solution": true,
     "task": false
    }
   },
   "outputs": [],
   "source": [
    "# Please uncomment all lines in this cell and replace those marked with `# YOUR CODE HERE`.\n",
    "# You can select all lines in this code cell with Ctrl+A (Windows/Linux) or Cmd+A (Mac), then press Ctrl+/ (Windows/Linux) or Cmd+/ (Mac) to uncomment.\n",
    "\n",
    "def base_model(inputs):\n",
    "    # connect a Dense layer with 128 neurons and a relu activation\n",
    "    x = Dense(128, activation= tf.nn.relu)(inputs)\n",
    "    \n",
    "    # connect another Dense layer with 128 neurons and a relu activation\n",
    "    x = Dense(128, activation= tf.nn.relu)(x)\n",
    "    return x"
   ]
  },
  {
   "cell_type": "code",
   "execution_count": 28,
   "metadata": {
    "deletable": false,
    "editable": false,
    "nbgrader": {
     "cell_type": "code",
     "checksum": "9255924b3def80f679616e4c851a43e1",
     "grade": true,
     "grade_id": "cell-54f742a133353d75",
     "locked": true,
     "points": 1,
     "schema_version": 3,
     "solution": false,
     "task": false
    }
   },
   "outputs": [
    {
     "name": "stdout",
     "output_type": "stream",
     "text": [
      "\u001b[92m All public tests passed\n"
     ]
    }
   ],
   "source": [
    "utils.test_base_model(base_model)"
   ]
  },
  {
   "cell_type": "markdown",
   "metadata": {
    "colab_type": "text",
    "id": "xem_fcVws6Kz"
   },
   "source": [
    "# Define output layers of the model (TODO)\n",
    "\n",
    "You will add output layers to the base model. \n",
    "- The model will need two outputs.\n",
    "\n",
    "One output layer will predict wine quality, which is a numeric value.\n",
    "- Define a `Dense` layer with 1 neuron.\n",
    "- Since this is a regression output, the activation can be left as its default value `None`.\n",
    "\n",
    "The other output layer will predict the wine type, which is either red `1` or not red `0` (white).\n",
    "- Define a `Dense` layer with 1 neuron.\n",
    "- Since there are two possible categories, you can use a sigmoid activation for binary classification.\n",
    "\n",
    "Define the `Model`\n",
    "- Define the `Model` object, and set the following parameters:\n",
    "  - `inputs`: pass in the inputs to the model as a list.\n",
    "  - `outputs`: pass in a list of the outputs that you just defined: wine quality, then wine type.\n",
    "  - **Note**: please list the wine quality before wine type in the outputs, as this will affect the calculated loss if you choose the other order."
   ]
  },
  {
   "cell_type": "code",
   "execution_count": 29,
   "metadata": {
    "colab": {},
    "colab_type": "code",
    "deletable": false,
    "id": "n5UGF8PMVLPt",
    "nbgrader": {
     "cell_type": "code",
     "checksum": "76d35b90d20cdcbb22986cd8211057de",
     "grade": false,
     "grade_id": "cell-19e285f482f021fb",
     "locked": false,
     "schema_version": 3,
     "solution": true,
     "task": false
    }
   },
   "outputs": [],
   "source": [
    "# Please uncomment all lines in this cell and replace those marked with `# YOUR CODE HERE`.\n",
    "# You can select all lines in this code cell with Ctrl+A (Windows/Linux) or Cmd+A (Mac), then press Ctrl+/ (Windows/Linux) or Cmd+/ (Mac) to uncomment.\n",
    "\n",
    "def final_model(inputs):\n",
    "    # get the base model\n",
    "    x = base_model(inputs)\n",
    "\n",
    "    # connect the output Dense layer for regression\n",
    "    wine_quality = Dense(units='1', name='wine_quality')(x)\n",
    "\n",
    "    # connect the output Dense layer for classification. this will use a sigmoid activation.\n",
    "    wine_type = Dense(units='1', activation='sigmoid', name='wine_type')(x)\n",
    "\n",
    "    # define the model using the input and output layers\n",
    "    model = Model(inputs=inputs, outputs=[wine_quality, wine_type])\n",
    "\n",
    "    return model"
   ]
  },
  {
   "cell_type": "code",
   "execution_count": 30,
   "metadata": {
    "deletable": false,
    "editable": false,
    "nbgrader": {
     "cell_type": "code",
     "checksum": "89cbf89d8ab5e2e59ecf7f63f517520a",
     "grade": true,
     "grade_id": "cell-40d050f855c817d1",
     "locked": true,
     "points": 1,
     "schema_version": 3,
     "solution": false,
     "task": false
    }
   },
   "outputs": [
    {
     "name": "stdout",
     "output_type": "stream",
     "text": [
      "\u001b[92m All public tests passed\n"
     ]
    }
   ],
   "source": [
    "utils.test_final_model(final_model)"
   ]
  },
  {
   "cell_type": "markdown",
   "metadata": {
    "colab_type": "text",
    "id": "5R0BMTsltZyu"
   },
   "source": [
    "## Compiling the Model\n",
    "\n",
    "Next, compile the model. When setting the loss parameter of `model.compile`, you're setting the loss for each of the two outputs (wine quality and wine type).\n",
    "\n",
    "To set more than one loss, use a dictionary of key-value pairs.\n",
    "- You can look at the docs for the losses [here](https://www.tensorflow.org/api_docs/python/tf/keras/losses#functions).\n",
    "    - **Note**: For the desired spelling, please look at the \"Functions\" section of the documentation and not the \"classes\" section on that same page.\n",
    "- wine_type: Since you will be performing binary classification on wine type, you should use the binary crossentropy loss function for it.  Please pass this in as a string.  \n",
    "  - **Hint**, this should be all lowercase.  In the documentation, you'll see this under the \"Functions\" section, not the \"Classes\" section.\n",
    "- wine_quality: since this is a regression output, use the mean squared error.  Please pass it in as a string, all lowercase.\n",
    "  - **Hint**: You may notice that there are two aliases for mean squared error.  Please use the shorter name.\n",
    "\n",
    "\n",
    "You will also set the metric for each of the two outputs.  Again, to set metrics for two or more outputs, use a dictionary with key value pairs.\n",
    "- The metrics documentation is linked [here](https://www.tensorflow.org/api_docs/python/tf/keras/metrics).\n",
    "- For the wine type, please set it to accuracy as a string, all lowercase.\n",
    "- For wine quality, please use the root mean squared error.  Instead of a string, you'll set it to an instance of the class [RootMeanSquaredError](https://www.tensorflow.org/api_docs/python/tf/keras/metrics/RootMeanSquaredError), which belongs to the tf.keras.metrics module.\n",
    "\n",
    "**Note**: If you see the error message \n",
    ">Exception: wine quality loss function is incorrect.\n",
    "\n",
    "- Please also check your other losses and metrics, as the error may be caused by the other three key-value pairs and not the wine quality loss."
   ]
  },
  {
   "cell_type": "code",
   "execution_count": 42,
   "metadata": {
    "colab": {},
    "colab_type": "code",
    "deletable": false,
    "id": "LK11duUbUjmh",
    "nbgrader": {
     "cell_type": "code",
     "checksum": "22f45067ca69eb2ccadb43874dbcc27b",
     "grade": false,
     "grade_id": "cell-81afdc4dcca51d5e",
     "locked": false,
     "schema_version": 3,
     "solution": true,
     "task": false
    }
   },
   "outputs": [],
   "source": [
    "# Please uncomment all lines in this cell and replace those marked with `# YOUR CODE HERE`.\n",
    "# You can select all lines in this code cell with Ctrl+A (Windows/Linux) or Cmd+A (Mac), then press Ctrl+/ (Windows/Linux) or Cmd+/ (Mac) to uncomment.\n",
    "inputs = tf.keras.layers.Input(shape=(11,))\n",
    "rms = tf.keras.optimizers.RMSprop(learning_rate=0.0001)\n",
    "model = final_model(inputs)\n",
    "\n",
    "model.compile(optimizer=rms, \n",
    "              loss = {'wine_type' : 'binary_crossentropy',\n",
    "                      'wine_quality' : 'mse'\n",
    "                     },\n",
    "              metrics = {'wine_type' : 'accuracy',\n",
    "                         'wine_quality':  tf.keras.metrics.RootMeanSquaredError()\n",
    "                       }\n",
    "             )"
   ]
  },
  {
   "cell_type": "code",
   "execution_count": 44,
   "metadata": {
    "deletable": false,
    "editable": false,
    "nbgrader": {
     "cell_type": "code",
     "checksum": "88e02238ea5e456ff65e835cc8158054",
     "grade": true,
     "grade_id": "cell-2eeeba02391c4632",
     "locked": true,
     "points": 1,
     "schema_version": 3,
     "solution": false,
     "task": false
    }
   },
   "outputs": [],
   "source": [
    "#utils.test_model_compile(model)"
   ]
  },
  {
   "cell_type": "markdown",
   "metadata": {
    "colab_type": "text",
    "id": "90MpAMpWuKm-"
   },
   "source": [
    "## Training the Model\n",
    "\n",
    "Fit the model to the training inputs and outputs. \n",
    "- Check the documentation for [model.fit](https://www.tensorflow.org/api_docs/python/tf/keras/Model#fit).\n",
    "- Remember to use the normalized training set as inputs. \n",
    "- For the validation data, please use the normalized validation set."
   ]
  },
  {
   "cell_type": "code",
   "execution_count": 45,
   "metadata": {
    "colab": {},
    "colab_type": "code",
    "deletable": false,
    "id": "_eiZkle4XwiY",
    "nbgrader": {
     "cell_type": "code",
     "checksum": "2ca7664be03bfd6fd3651ae44d17b793",
     "grade": false,
     "grade_id": "cell-0bb56262896f6680",
     "locked": false,
     "schema_version": 3,
     "solution": true,
     "task": false
    }
   },
   "outputs": [
    {
     "name": "stdout",
     "output_type": "stream",
     "text": [
      "Epoch 1/180\n",
      "99/99 [==============================] - 1s 3ms/step - loss: 26.8055 - wine_quality_loss: 26.1372 - wine_type_loss: 0.6683 - wine_quality_root_mean_squared_error: 5.1125 - wine_type_accuracy: 0.7372 - val_loss: 19.2141 - val_wine_quality_loss: 18.5566 - val_wine_type_loss: 0.6576 - val_wine_quality_root_mean_squared_error: 4.3077 - val_wine_type_accuracy: 0.7300\n",
      "Epoch 2/180\n",
      "99/99 [==============================] - 0s 2ms/step - loss: 13.2396 - wine_quality_loss: 12.5983 - wine_type_loss: 0.6413 - wine_quality_root_mean_squared_error: 3.5494 - wine_type_accuracy: 0.7439 - val_loss: 8.0540 - val_wine_quality_loss: 7.4343 - val_wine_type_loss: 0.6197 - val_wine_quality_root_mean_squared_error: 2.7266 - val_wine_type_accuracy: 0.7338\n",
      "Epoch 3/180\n",
      "99/99 [==============================] - 0s 2ms/step - loss: 5.4182 - wine_quality_loss: 4.8422 - wine_type_loss: 0.5760 - wine_quality_root_mean_squared_error: 2.2005 - wine_type_accuracy: 0.7442 - val_loss: 3.6738 - val_wine_quality_loss: 3.1450 - val_wine_type_loss: 0.5288 - val_wine_quality_root_mean_squared_error: 1.7734 - val_wine_type_accuracy: 0.7338\n",
      "Epoch 4/180\n",
      "99/99 [==============================] - 0s 2ms/step - loss: 3.1981 - wine_quality_loss: 2.7283 - wine_type_loss: 0.4697 - wine_quality_root_mean_squared_error: 1.6518 - wine_type_accuracy: 0.7547 - val_loss: 2.8298 - val_wine_quality_loss: 2.4077 - val_wine_type_loss: 0.4221 - val_wine_quality_root_mean_squared_error: 1.5517 - val_wine_type_accuracy: 0.7845\n",
      "Epoch 5/180\n",
      "99/99 [==============================] - 0s 2ms/step - loss: 2.5351 - wine_quality_loss: 2.1652 - wine_type_loss: 0.3699 - wine_quality_root_mean_squared_error: 1.4715 - wine_type_accuracy: 0.8507 - val_loss: 2.3333 - val_wine_quality_loss: 2.0043 - val_wine_type_loss: 0.3290 - val_wine_quality_root_mean_squared_error: 1.4157 - val_wine_type_accuracy: 0.8999\n",
      "Epoch 6/180\n",
      "99/99 [==============================] - 0s 2ms/step - loss: 2.1613 - wine_quality_loss: 1.8723 - wine_type_loss: 0.2890 - wine_quality_root_mean_squared_error: 1.3683 - wine_type_accuracy: 0.9379 - val_loss: 2.0089 - val_wine_quality_loss: 1.7525 - val_wine_type_loss: 0.2564 - val_wine_quality_root_mean_squared_error: 1.3238 - val_wine_type_accuracy: 0.9632\n",
      "Epoch 7/180\n",
      "99/99 [==============================] - 0s 2ms/step - loss: 1.8795 - wine_quality_loss: 1.6562 - wine_type_loss: 0.2233 - wine_quality_root_mean_squared_error: 1.2869 - wine_type_accuracy: 0.9734 - val_loss: 1.7569 - val_wine_quality_loss: 1.5572 - val_wine_type_loss: 0.1997 - val_wine_quality_root_mean_squared_error: 1.2479 - val_wine_type_accuracy: 0.9848\n",
      "Epoch 8/180\n",
      "99/99 [==============================] - 0s 2ms/step - loss: 1.6713 - wine_quality_loss: 1.4973 - wine_type_loss: 0.1740 - wine_quality_root_mean_squared_error: 1.2237 - wine_type_accuracy: 0.9857 - val_loss: 1.5774 - val_wine_quality_loss: 1.4228 - val_wine_type_loss: 0.1546 - val_wine_quality_root_mean_squared_error: 1.1928 - val_wine_type_accuracy: 0.9924\n",
      "Epoch 9/180\n",
      "99/99 [==============================] - 0s 2ms/step - loss: 1.5166 - wine_quality_loss: 1.3797 - wine_type_loss: 0.1369 - wine_quality_root_mean_squared_error: 1.1746 - wine_type_accuracy: 0.9899 - val_loss: 1.4300 - val_wine_quality_loss: 1.3070 - val_wine_type_loss: 0.1229 - val_wine_quality_root_mean_squared_error: 1.1433 - val_wine_type_accuracy: 0.9924\n",
      "Epoch 10/180\n",
      "99/99 [==============================] - 0s 3ms/step - loss: 1.3887 - wine_quality_loss: 1.2782 - wine_type_loss: 0.1105 - wine_quality_root_mean_squared_error: 1.1306 - wine_type_accuracy: 0.9895 - val_loss: 1.3065 - val_wine_quality_loss: 1.2063 - val_wine_type_loss: 0.1001 - val_wine_quality_root_mean_squared_error: 1.0983 - val_wine_type_accuracy: 0.9949\n",
      "Epoch 11/180\n",
      "99/99 [==============================] - 0s 4ms/step - loss: 1.2756 - wine_quality_loss: 1.1847 - wine_type_loss: 0.0908 - wine_quality_root_mean_squared_error: 1.0885 - wine_type_accuracy: 0.9908 - val_loss: 1.2049 - val_wine_quality_loss: 1.1221 - val_wine_type_loss: 0.0828 - val_wine_quality_root_mean_squared_error: 1.0593 - val_wine_type_accuracy: 0.9949\n",
      "Epoch 12/180\n",
      "99/99 [==============================] - 0s 3ms/step - loss: 1.1798 - wine_quality_loss: 1.1028 - wine_type_loss: 0.0770 - wine_quality_root_mean_squared_error: 1.0501 - wine_type_accuracy: 0.9914 - val_loss: 1.1137 - val_wine_quality_loss: 1.0429 - val_wine_type_loss: 0.0708 - val_wine_quality_root_mean_squared_error: 1.0212 - val_wine_type_accuracy: 0.9949\n",
      "Epoch 13/180\n",
      "99/99 [==============================] - 0s 4ms/step - loss: 1.0974 - wine_quality_loss: 1.0305 - wine_type_loss: 0.0669 - wine_quality_root_mean_squared_error: 1.0151 - wine_type_accuracy: 0.9914 - val_loss: 1.0463 - val_wine_quality_loss: 0.9844 - val_wine_type_loss: 0.0619 - val_wine_quality_root_mean_squared_error: 0.9922 - val_wine_type_accuracy: 0.9949\n",
      "Epoch 14/180\n",
      "99/99 [==============================] - 0s 4ms/step - loss: 1.0303 - wine_quality_loss: 0.9708 - wine_type_loss: 0.0595 - wine_quality_root_mean_squared_error: 0.9853 - wine_type_accuracy: 0.9918 - val_loss: 0.9752 - val_wine_quality_loss: 0.9194 - val_wine_type_loss: 0.0558 - val_wine_quality_root_mean_squared_error: 0.9589 - val_wine_type_accuracy: 0.9949\n",
      "Epoch 15/180\n",
      "99/99 [==============================] - 0s 3ms/step - loss: 0.9674 - wine_quality_loss: 0.9134 - wine_type_loss: 0.0541 - wine_quality_root_mean_squared_error: 0.9557 - wine_type_accuracy: 0.9918 - val_loss: 0.9113 - val_wine_quality_loss: 0.8605 - val_wine_type_loss: 0.0508 - val_wine_quality_root_mean_squared_error: 0.9276 - val_wine_type_accuracy: 0.9949\n",
      "Epoch 16/180\n",
      "99/99 [==============================] - 0s 4ms/step - loss: 0.9100 - wine_quality_loss: 0.8603 - wine_type_loss: 0.0497 - wine_quality_root_mean_squared_error: 0.9275 - wine_type_accuracy: 0.9918 - val_loss: 0.8564 - val_wine_quality_loss: 0.8092 - val_wine_type_loss: 0.0472 - val_wine_quality_root_mean_squared_error: 0.8996 - val_wine_type_accuracy: 0.9949\n",
      "Epoch 17/180\n",
      "99/99 [==============================] - 0s 5ms/step - loss: 0.8592 - wine_quality_loss: 0.8130 - wine_type_loss: 0.0462 - wine_quality_root_mean_squared_error: 0.9017 - wine_type_accuracy: 0.9921 - val_loss: 0.8224 - val_wine_quality_loss: 0.7783 - val_wine_type_loss: 0.0441 - val_wine_quality_root_mean_squared_error: 0.8822 - val_wine_type_accuracy: 0.9949\n",
      "Epoch 18/180\n",
      "99/99 [==============================] - 0s 4ms/step - loss: 0.8113 - wine_quality_loss: 0.7678 - wine_type_loss: 0.0435 - wine_quality_root_mean_squared_error: 0.8762 - wine_type_accuracy: 0.9924 - val_loss: 0.7753 - val_wine_quality_loss: 0.7336 - val_wine_type_loss: 0.0417 - val_wine_quality_root_mean_squared_error: 0.8565 - val_wine_type_accuracy: 0.9949\n",
      "Epoch 19/180\n",
      "99/99 [==============================] - 1s 7ms/step - loss: 0.7685 - wine_quality_loss: 0.7272 - wine_type_loss: 0.0413 - wine_quality_root_mean_squared_error: 0.8528 - wine_type_accuracy: 0.9927 - val_loss: 0.7292 - val_wine_quality_loss: 0.6893 - val_wine_type_loss: 0.0399 - val_wine_quality_root_mean_squared_error: 0.8302 - val_wine_type_accuracy: 0.9949\n",
      "Epoch 20/180\n",
      "99/99 [==============================] - 0s 5ms/step - loss: 0.7294 - wine_quality_loss: 0.6900 - wine_type_loss: 0.0394 - wine_quality_root_mean_squared_error: 0.8306 - wine_type_accuracy: 0.9927 - val_loss: 0.6992 - val_wine_quality_loss: 0.6610 - val_wine_type_loss: 0.0382 - val_wine_quality_root_mean_squared_error: 0.8130 - val_wine_type_accuracy: 0.9949\n",
      "Epoch 21/180\n",
      "99/99 [==============================] - 0s 4ms/step - loss: 0.6918 - wine_quality_loss: 0.6539 - wine_type_loss: 0.0379 - wine_quality_root_mean_squared_error: 0.8086 - wine_type_accuracy: 0.9930 - val_loss: 0.6559 - val_wine_quality_loss: 0.6190 - val_wine_type_loss: 0.0369 - val_wine_quality_root_mean_squared_error: 0.7868 - val_wine_type_accuracy: 0.9949\n",
      "Epoch 22/180\n",
      "99/99 [==============================] - 0s 5ms/step - loss: 0.6581 - wine_quality_loss: 0.6216 - wine_type_loss: 0.0365 - wine_quality_root_mean_squared_error: 0.7884 - wine_type_accuracy: 0.9930 - val_loss: 0.6258 - val_wine_quality_loss: 0.5901 - val_wine_type_loss: 0.0357 - val_wine_quality_root_mean_squared_error: 0.7682 - val_wine_type_accuracy: 0.9949\n",
      "Epoch 23/180\n",
      "99/99 [==============================] - 0s 4ms/step - loss: 0.6258 - wine_quality_loss: 0.5904 - wine_type_loss: 0.0353 - wine_quality_root_mean_squared_error: 0.7684 - wine_type_accuracy: 0.9930 - val_loss: 0.6050 - val_wine_quality_loss: 0.5703 - val_wine_type_loss: 0.0347 - val_wine_quality_root_mean_squared_error: 0.7552 - val_wine_type_accuracy: 0.9949\n",
      "Epoch 24/180\n",
      "99/99 [==============================] - 0s 4ms/step - loss: 0.5978 - wine_quality_loss: 0.5634 - wine_type_loss: 0.0344 - wine_quality_root_mean_squared_error: 0.7506 - wine_type_accuracy: 0.9930 - val_loss: 0.5680 - val_wine_quality_loss: 0.5340 - val_wine_type_loss: 0.0340 - val_wine_quality_root_mean_squared_error: 0.7308 - val_wine_type_accuracy: 0.9949\n",
      "Epoch 25/180\n",
      "99/99 [==============================] - 0s 4ms/step - loss: 0.5738 - wine_quality_loss: 0.5404 - wine_type_loss: 0.0335 - wine_quality_root_mean_squared_error: 0.7351 - wine_type_accuracy: 0.9933 - val_loss: 0.5466 - val_wine_quality_loss: 0.5134 - val_wine_type_loss: 0.0333 - val_wine_quality_root_mean_squared_error: 0.7165 - val_wine_type_accuracy: 0.9949\n",
      "Epoch 26/180\n",
      "99/99 [==============================] - 0s 4ms/step - loss: 0.5493 - wine_quality_loss: 0.5166 - wine_type_loss: 0.0327 - wine_quality_root_mean_squared_error: 0.7188 - wine_type_accuracy: 0.9930 - val_loss: 0.5278 - val_wine_quality_loss: 0.4952 - val_wine_type_loss: 0.0326 - val_wine_quality_root_mean_squared_error: 0.7037 - val_wine_type_accuracy: 0.9949\n",
      "Epoch 27/180\n",
      "99/99 [==============================] - 0s 4ms/step - loss: 0.5288 - wine_quality_loss: 0.4969 - wine_type_loss: 0.0320 - wine_quality_root_mean_squared_error: 0.7049 - wine_type_accuracy: 0.9937 - val_loss: 0.5099 - val_wine_quality_loss: 0.4778 - val_wine_type_loss: 0.0321 - val_wine_quality_root_mean_squared_error: 0.6912 - val_wine_type_accuracy: 0.9949\n",
      "Epoch 28/180\n",
      "99/99 [==============================] - 0s 3ms/step - loss: 0.5085 - wine_quality_loss: 0.4771 - wine_type_loss: 0.0314 - wine_quality_root_mean_squared_error: 0.6907 - wine_type_accuracy: 0.9940 - val_loss: 0.4888 - val_wine_quality_loss: 0.4572 - val_wine_type_loss: 0.0316 - val_wine_quality_root_mean_squared_error: 0.6762 - val_wine_type_accuracy: 0.9949\n",
      "Epoch 29/180\n",
      "99/99 [==============================] - 0s 4ms/step - loss: 0.4917 - wine_quality_loss: 0.4609 - wine_type_loss: 0.0308 - wine_quality_root_mean_squared_error: 0.6789 - wine_type_accuracy: 0.9940 - val_loss: 0.4741 - val_wine_quality_loss: 0.4429 - val_wine_type_loss: 0.0313 - val_wine_quality_root_mean_squared_error: 0.6655 - val_wine_type_accuracy: 0.9949\n",
      "Epoch 30/180\n",
      "99/99 [==============================] - 0s 4ms/step - loss: 0.4761 - wine_quality_loss: 0.4458 - wine_type_loss: 0.0303 - wine_quality_root_mean_squared_error: 0.6677 - wine_type_accuracy: 0.9940 - val_loss: 0.4576 - val_wine_quality_loss: 0.4267 - val_wine_type_loss: 0.0309 - val_wine_quality_root_mean_squared_error: 0.6532 - val_wine_type_accuracy: 0.9949\n",
      "Epoch 31/180\n",
      "99/99 [==============================] - 1s 10ms/step - loss: 0.4615 - wine_quality_loss: 0.4316 - wine_type_loss: 0.0299 - wine_quality_root_mean_squared_error: 0.6570 - wine_type_accuracy: 0.9940 - val_loss: 0.4452 - val_wine_quality_loss: 0.4147 - val_wine_type_loss: 0.0305 - val_wine_quality_root_mean_squared_error: 0.6440 - val_wine_type_accuracy: 0.9949\n",
      "Epoch 32/180\n",
      "99/99 [==============================] - 1s 8ms/step - loss: 0.4481 - wine_quality_loss: 0.4187 - wine_type_loss: 0.0294 - wine_quality_root_mean_squared_error: 0.6471 - wine_type_accuracy: 0.9940 - val_loss: 0.4374 - val_wine_quality_loss: 0.4073 - val_wine_type_loss: 0.0302 - val_wine_quality_root_mean_squared_error: 0.6382 - val_wine_type_accuracy: 0.9949\n",
      "Epoch 33/180\n",
      "99/99 [==============================] - 1s 10ms/step - loss: 0.4370 - wine_quality_loss: 0.4080 - wine_type_loss: 0.0290 - wine_quality_root_mean_squared_error: 0.6388 - wine_type_accuracy: 0.9940 - val_loss: 0.4224 - val_wine_quality_loss: 0.3926 - val_wine_type_loss: 0.0299 - val_wine_quality_root_mean_squared_error: 0.6266 - val_wine_type_accuracy: 0.9949\n",
      "Epoch 34/180\n",
      "99/99 [==============================] - 1s 8ms/step - loss: 0.4262 - wine_quality_loss: 0.3976 - wine_type_loss: 0.0286 - wine_quality_root_mean_squared_error: 0.6306 - wine_type_accuracy: 0.9940 - val_loss: 0.4192 - val_wine_quality_loss: 0.3895 - val_wine_type_loss: 0.0297 - val_wine_quality_root_mean_squared_error: 0.6241 - val_wine_type_accuracy: 0.9949\n",
      "Epoch 35/180\n",
      "99/99 [==============================] - 1s 8ms/step - loss: 0.4161 - wine_quality_loss: 0.3878 - wine_type_loss: 0.0283 - wine_quality_root_mean_squared_error: 0.6227 - wine_type_accuracy: 0.9940 - val_loss: 0.4094 - val_wine_quality_loss: 0.3800 - val_wine_type_loss: 0.0294 - val_wine_quality_root_mean_squared_error: 0.6164 - val_wine_type_accuracy: 0.9962\n",
      "Epoch 36/180\n",
      "99/99 [==============================] - 1s 8ms/step - loss: 0.4084 - wine_quality_loss: 0.3804 - wine_type_loss: 0.0280 - wine_quality_root_mean_squared_error: 0.6167 - wine_type_accuracy: 0.9940 - val_loss: 0.4003 - val_wine_quality_loss: 0.3710 - val_wine_type_loss: 0.0292 - val_wine_quality_root_mean_squared_error: 0.6091 - val_wine_type_accuracy: 0.9962\n",
      "Epoch 37/180\n",
      "99/99 [==============================] - 1s 9ms/step - loss: 0.4001 - wine_quality_loss: 0.3723 - wine_type_loss: 0.0277 - wine_quality_root_mean_squared_error: 0.6102 - wine_type_accuracy: 0.9940 - val_loss: 0.3938 - val_wine_quality_loss: 0.3648 - val_wine_type_loss: 0.0290 - val_wine_quality_root_mean_squared_error: 0.6040 - val_wine_type_accuracy: 0.9962\n",
      "Epoch 38/180\n",
      "99/99 [==============================] - 1s 7ms/step - loss: 0.3947 - wine_quality_loss: 0.3673 - wine_type_loss: 0.0274 - wine_quality_root_mean_squared_error: 0.6061 - wine_type_accuracy: 0.9940 - val_loss: 0.3853 - val_wine_quality_loss: 0.3565 - val_wine_type_loss: 0.0289 - val_wine_quality_root_mean_squared_error: 0.5970 - val_wine_type_accuracy: 0.9962\n",
      "Epoch 39/180\n",
      "99/99 [==============================] - 1s 8ms/step - loss: 0.3882 - wine_quality_loss: 0.3610 - wine_type_loss: 0.0271 - wine_quality_root_mean_squared_error: 0.6008 - wine_type_accuracy: 0.9940 - val_loss: 0.3808 - val_wine_quality_loss: 0.3520 - val_wine_type_loss: 0.0288 - val_wine_quality_root_mean_squared_error: 0.5933 - val_wine_type_accuracy: 0.9962\n",
      "Epoch 40/180\n",
      "99/99 [==============================] - 1s 9ms/step - loss: 0.3832 - wine_quality_loss: 0.3563 - wine_type_loss: 0.0268 - wine_quality_root_mean_squared_error: 0.5969 - wine_type_accuracy: 0.9943 - val_loss: 0.3780 - val_wine_quality_loss: 0.3493 - val_wine_type_loss: 0.0286 - val_wine_quality_root_mean_squared_error: 0.5911 - val_wine_type_accuracy: 0.9962\n",
      "Epoch 41/180\n",
      "99/99 [==============================] - 1s 7ms/step - loss: 0.3777 - wine_quality_loss: 0.3511 - wine_type_loss: 0.0266 - wine_quality_root_mean_squared_error: 0.5925 - wine_type_accuracy: 0.9937 - val_loss: 0.3774 - val_wine_quality_loss: 0.3490 - val_wine_type_loss: 0.0284 - val_wine_quality_root_mean_squared_error: 0.5907 - val_wine_type_accuracy: 0.9962\n",
      "Epoch 42/180\n",
      "99/99 [==============================] - 1s 7ms/step - loss: 0.3727 - wine_quality_loss: 0.3463 - wine_type_loss: 0.0264 - wine_quality_root_mean_squared_error: 0.5885 - wine_type_accuracy: 0.9943 - val_loss: 0.3883 - val_wine_quality_loss: 0.3601 - val_wine_type_loss: 0.0282 - val_wine_quality_root_mean_squared_error: 0.6001 - val_wine_type_accuracy: 0.9962\n",
      "Epoch 43/180\n",
      "99/99 [==============================] - 1s 7ms/step - loss: 0.3681 - wine_quality_loss: 0.3420 - wine_type_loss: 0.0261 - wine_quality_root_mean_squared_error: 0.5848 - wine_type_accuracy: 0.9943 - val_loss: 0.3724 - val_wine_quality_loss: 0.3442 - val_wine_type_loss: 0.0282 - val_wine_quality_root_mean_squared_error: 0.5867 - val_wine_type_accuracy: 0.9962\n",
      "Epoch 44/180\n",
      "99/99 [==============================] - 1s 6ms/step - loss: 0.3665 - wine_quality_loss: 0.3405 - wine_type_loss: 0.0260 - wine_quality_root_mean_squared_error: 0.5835 - wine_type_accuracy: 0.9946 - val_loss: 0.3666 - val_wine_quality_loss: 0.3384 - val_wine_type_loss: 0.0282 - val_wine_quality_root_mean_squared_error: 0.5818 - val_wine_type_accuracy: 0.9962\n",
      "Epoch 45/180\n",
      "99/99 [==============================] - 1s 5ms/step - loss: 0.3615 - wine_quality_loss: 0.3358 - wine_type_loss: 0.0257 - wine_quality_root_mean_squared_error: 0.5795 - wine_type_accuracy: 0.9943 - val_loss: 0.3648 - val_wine_quality_loss: 0.3366 - val_wine_type_loss: 0.0282 - val_wine_quality_root_mean_squared_error: 0.5802 - val_wine_type_accuracy: 0.9962\n",
      "Epoch 46/180\n",
      "99/99 [==============================] - 1s 6ms/step - loss: 0.3591 - wine_quality_loss: 0.3336 - wine_type_loss: 0.0255 - wine_quality_root_mean_squared_error: 0.5776 - wine_type_accuracy: 0.9956 - val_loss: 0.3648 - val_wine_quality_loss: 0.3369 - val_wine_type_loss: 0.0279 - val_wine_quality_root_mean_squared_error: 0.5804 - val_wine_type_accuracy: 0.9962\n",
      "Epoch 47/180\n",
      "99/99 [==============================] - 1s 9ms/step - loss: 0.3556 - wine_quality_loss: 0.3304 - wine_type_loss: 0.0253 - wine_quality_root_mean_squared_error: 0.5748 - wine_type_accuracy: 0.9952 - val_loss: 0.3661 - val_wine_quality_loss: 0.3384 - val_wine_type_loss: 0.0277 - val_wine_quality_root_mean_squared_error: 0.5817 - val_wine_type_accuracy: 0.9962\n",
      "Epoch 48/180\n",
      "99/99 [==============================] - 1s 7ms/step - loss: 0.3542 - wine_quality_loss: 0.3291 - wine_type_loss: 0.0251 - wine_quality_root_mean_squared_error: 0.5737 - wine_type_accuracy: 0.9952 - val_loss: 0.3603 - val_wine_quality_loss: 0.3326 - val_wine_type_loss: 0.0276 - val_wine_quality_root_mean_squared_error: 0.5767 - val_wine_type_accuracy: 0.9962\n",
      "Epoch 49/180\n",
      "99/99 [==============================] - 1s 6ms/step - loss: 0.3508 - wine_quality_loss: 0.3259 - wine_type_loss: 0.0249 - wine_quality_root_mean_squared_error: 0.5708 - wine_type_accuracy: 0.9952 - val_loss: 0.3619 - val_wine_quality_loss: 0.3344 - val_wine_type_loss: 0.0275 - val_wine_quality_root_mean_squared_error: 0.5783 - val_wine_type_accuracy: 0.9962\n",
      "Epoch 50/180\n",
      "99/99 [==============================] - 1s 6ms/step - loss: 0.3495 - wine_quality_loss: 0.3247 - wine_type_loss: 0.0247 - wine_quality_root_mean_squared_error: 0.5699 - wine_type_accuracy: 0.9952 - val_loss: 0.3547 - val_wine_quality_loss: 0.3273 - val_wine_type_loss: 0.0275 - val_wine_quality_root_mean_squared_error: 0.5721 - val_wine_type_accuracy: 0.9962\n",
      "Epoch 51/180\n",
      "99/99 [==============================] - 1s 6ms/step - loss: 0.3474 - wine_quality_loss: 0.3229 - wine_type_loss: 0.0245 - wine_quality_root_mean_squared_error: 0.5683 - wine_type_accuracy: 0.9959 - val_loss: 0.3520 - val_wine_quality_loss: 0.3247 - val_wine_type_loss: 0.0273 - val_wine_quality_root_mean_squared_error: 0.5698 - val_wine_type_accuracy: 0.9962\n",
      "Epoch 52/180\n",
      "99/99 [==============================] - 0s 5ms/step - loss: 0.3446 - wine_quality_loss: 0.3203 - wine_type_loss: 0.0244 - wine_quality_root_mean_squared_error: 0.5659 - wine_type_accuracy: 0.9959 - val_loss: 0.3555 - val_wine_quality_loss: 0.3282 - val_wine_type_loss: 0.0272 - val_wine_quality_root_mean_squared_error: 0.5729 - val_wine_type_accuracy: 0.9962\n",
      "Epoch 53/180\n",
      "99/99 [==============================] - 1s 6ms/step - loss: 0.3418 - wine_quality_loss: 0.3177 - wine_type_loss: 0.0241 - wine_quality_root_mean_squared_error: 0.5637 - wine_type_accuracy: 0.9959 - val_loss: 0.3576 - val_wine_quality_loss: 0.3304 - val_wine_type_loss: 0.0271 - val_wine_quality_root_mean_squared_error: 0.5748 - val_wine_type_accuracy: 0.9962\n",
      "Epoch 54/180\n",
      "99/99 [==============================] - 1s 5ms/step - loss: 0.3411 - wine_quality_loss: 0.3171 - wine_type_loss: 0.0240 - wine_quality_root_mean_squared_error: 0.5631 - wine_type_accuracy: 0.9959 - val_loss: 0.3491 - val_wine_quality_loss: 0.3221 - val_wine_type_loss: 0.0270 - val_wine_quality_root_mean_squared_error: 0.5675 - val_wine_type_accuracy: 0.9962\n",
      "Epoch 55/180\n",
      "99/99 [==============================] - 1s 5ms/step - loss: 0.3386 - wine_quality_loss: 0.3147 - wine_type_loss: 0.0239 - wine_quality_root_mean_squared_error: 0.5610 - wine_type_accuracy: 0.9959 - val_loss: 0.3479 - val_wine_quality_loss: 0.3209 - val_wine_type_loss: 0.0270 - val_wine_quality_root_mean_squared_error: 0.5665 - val_wine_type_accuracy: 0.9962\n",
      "Epoch 56/180\n",
      "99/99 [==============================] - 1s 5ms/step - loss: 0.3378 - wine_quality_loss: 0.3141 - wine_type_loss: 0.0237 - wine_quality_root_mean_squared_error: 0.5605 - wine_type_accuracy: 0.9959 - val_loss: 0.3458 - val_wine_quality_loss: 0.3189 - val_wine_type_loss: 0.0269 - val_wine_quality_root_mean_squared_error: 0.5647 - val_wine_type_accuracy: 0.9962\n",
      "Epoch 57/180\n",
      "99/99 [==============================] - 1s 6ms/step - loss: 0.3363 - wine_quality_loss: 0.3128 - wine_type_loss: 0.0235 - wine_quality_root_mean_squared_error: 0.5592 - wine_type_accuracy: 0.9962 - val_loss: 0.3487 - val_wine_quality_loss: 0.3219 - val_wine_type_loss: 0.0268 - val_wine_quality_root_mean_squared_error: 0.5674 - val_wine_type_accuracy: 0.9962\n",
      "Epoch 58/180\n",
      "99/99 [==============================] - 1s 5ms/step - loss: 0.3344 - wine_quality_loss: 0.3111 - wine_type_loss: 0.0234 - wine_quality_root_mean_squared_error: 0.5577 - wine_type_accuracy: 0.9962 - val_loss: 0.3456 - val_wine_quality_loss: 0.3189 - val_wine_type_loss: 0.0267 - val_wine_quality_root_mean_squared_error: 0.5647 - val_wine_type_accuracy: 0.9962\n",
      "Epoch 59/180\n",
      "99/99 [==============================] - 0s 4ms/step - loss: 0.3331 - wine_quality_loss: 0.3100 - wine_type_loss: 0.0231 - wine_quality_root_mean_squared_error: 0.5568 - wine_type_accuracy: 0.9962 - val_loss: 0.3515 - val_wine_quality_loss: 0.3250 - val_wine_type_loss: 0.0265 - val_wine_quality_root_mean_squared_error: 0.5700 - val_wine_type_accuracy: 0.9962\n",
      "Epoch 60/180\n",
      "99/99 [==============================] - 0s 4ms/step - loss: 0.3324 - wine_quality_loss: 0.3095 - wine_type_loss: 0.0230 - wine_quality_root_mean_squared_error: 0.5563 - wine_type_accuracy: 0.9959 - val_loss: 0.3438 - val_wine_quality_loss: 0.3173 - val_wine_type_loss: 0.0265 - val_wine_quality_root_mean_squared_error: 0.5633 - val_wine_type_accuracy: 0.9962\n",
      "Epoch 61/180\n",
      "99/99 [==============================] - 1s 12ms/step - loss: 0.3308 - wine_quality_loss: 0.3080 - wine_type_loss: 0.0228 - wine_quality_root_mean_squared_error: 0.5550 - wine_type_accuracy: 0.9962 - val_loss: 0.3414 - val_wine_quality_loss: 0.3149 - val_wine_type_loss: 0.0265 - val_wine_quality_root_mean_squared_error: 0.5611 - val_wine_type_accuracy: 0.9962\n",
      "Epoch 62/180\n",
      "99/99 [==============================] - 1s 9ms/step - loss: 0.3292 - wine_quality_loss: 0.3065 - wine_type_loss: 0.0226 - wine_quality_root_mean_squared_error: 0.5537 - wine_type_accuracy: 0.9962 - val_loss: 0.3542 - val_wine_quality_loss: 0.3279 - val_wine_type_loss: 0.0263 - val_wine_quality_root_mean_squared_error: 0.5727 - val_wine_type_accuracy: 0.9962\n",
      "Epoch 63/180\n",
      "99/99 [==============================] - 1s 7ms/step - loss: 0.3291 - wine_quality_loss: 0.3066 - wine_type_loss: 0.0225 - wine_quality_root_mean_squared_error: 0.5537 - wine_type_accuracy: 0.9962 - val_loss: 0.3440 - val_wine_quality_loss: 0.3176 - val_wine_type_loss: 0.0263 - val_wine_quality_root_mean_squared_error: 0.5636 - val_wine_type_accuracy: 0.9962\n",
      "Epoch 64/180\n",
      "99/99 [==============================] - 1s 6ms/step - loss: 0.3263 - wine_quality_loss: 0.3040 - wine_type_loss: 0.0224 - wine_quality_root_mean_squared_error: 0.5513 - wine_type_accuracy: 0.9962 - val_loss: 0.3433 - val_wine_quality_loss: 0.3171 - val_wine_type_loss: 0.0262 - val_wine_quality_root_mean_squared_error: 0.5631 - val_wine_type_accuracy: 0.9962\n",
      "Epoch 65/180\n",
      "99/99 [==============================] - 1s 6ms/step - loss: 0.3273 - wine_quality_loss: 0.3051 - wine_type_loss: 0.0222 - wine_quality_root_mean_squared_error: 0.5524 - wine_type_accuracy: 0.9962 - val_loss: 0.3417 - val_wine_quality_loss: 0.3155 - val_wine_type_loss: 0.0262 - val_wine_quality_root_mean_squared_error: 0.5617 - val_wine_type_accuracy: 0.9962\n",
      "Epoch 66/180\n",
      "99/99 [==============================] - 1s 6ms/step - loss: 0.3245 - wine_quality_loss: 0.3024 - wine_type_loss: 0.0220 - wine_quality_root_mean_squared_error: 0.5499 - wine_type_accuracy: 0.9962 - val_loss: 0.3453 - val_wine_quality_loss: 0.3191 - val_wine_type_loss: 0.0261 - val_wine_quality_root_mean_squared_error: 0.5649 - val_wine_type_accuracy: 0.9962\n",
      "Epoch 67/180\n",
      "99/99 [==============================] - 0s 4ms/step - loss: 0.3232 - wine_quality_loss: 0.3014 - wine_type_loss: 0.0219 - wine_quality_root_mean_squared_error: 0.5490 - wine_type_accuracy: 0.9962 - val_loss: 0.3441 - val_wine_quality_loss: 0.3180 - val_wine_type_loss: 0.0261 - val_wine_quality_root_mean_squared_error: 0.5639 - val_wine_type_accuracy: 0.9962\n",
      "Epoch 68/180\n",
      "99/99 [==============================] - 0s 4ms/step - loss: 0.3217 - wine_quality_loss: 0.2999 - wine_type_loss: 0.0218 - wine_quality_root_mean_squared_error: 0.5476 - wine_type_accuracy: 0.9962 - val_loss: 0.3399 - val_wine_quality_loss: 0.3138 - val_wine_type_loss: 0.0260 - val_wine_quality_root_mean_squared_error: 0.5602 - val_wine_type_accuracy: 0.9962\n",
      "Epoch 69/180\n",
      "99/99 [==============================] - 1s 6ms/step - loss: 0.3220 - wine_quality_loss: 0.3004 - wine_type_loss: 0.0217 - wine_quality_root_mean_squared_error: 0.5481 - wine_type_accuracy: 0.9962 - val_loss: 0.3373 - val_wine_quality_loss: 0.3114 - val_wine_type_loss: 0.0260 - val_wine_quality_root_mean_squared_error: 0.5580 - val_wine_type_accuracy: 0.9962\n",
      "Epoch 70/180\n",
      "99/99 [==============================] - 0s 5ms/step - loss: 0.3205 - wine_quality_loss: 0.2990 - wine_type_loss: 0.0215 - wine_quality_root_mean_squared_error: 0.5469 - wine_type_accuracy: 0.9962 - val_loss: 0.3378 - val_wine_quality_loss: 0.3119 - val_wine_type_loss: 0.0259 - val_wine_quality_root_mean_squared_error: 0.5585 - val_wine_type_accuracy: 0.9962\n",
      "Epoch 71/180\n",
      "99/99 [==============================] - 0s 5ms/step - loss: 0.3202 - wine_quality_loss: 0.2989 - wine_type_loss: 0.0214 - wine_quality_root_mean_squared_error: 0.5467 - wine_type_accuracy: 0.9962 - val_loss: 0.3411 - val_wine_quality_loss: 0.3153 - val_wine_type_loss: 0.0257 - val_wine_quality_root_mean_squared_error: 0.5615 - val_wine_type_accuracy: 0.9962\n",
      "Epoch 72/180\n",
      "99/99 [==============================] - 1s 6ms/step - loss: 0.3187 - wine_quality_loss: 0.2974 - wine_type_loss: 0.0213 - wine_quality_root_mean_squared_error: 0.5454 - wine_type_accuracy: 0.9962 - val_loss: 0.3393 - val_wine_quality_loss: 0.3136 - val_wine_type_loss: 0.0257 - val_wine_quality_root_mean_squared_error: 0.5600 - val_wine_type_accuracy: 0.9962\n",
      "Epoch 73/180\n",
      "99/99 [==============================] - 1s 6ms/step - loss: 0.3176 - wine_quality_loss: 0.2965 - wine_type_loss: 0.0211 - wine_quality_root_mean_squared_error: 0.5445 - wine_type_accuracy: 0.9962 - val_loss: 0.3368 - val_wine_quality_loss: 0.3112 - val_wine_type_loss: 0.0256 - val_wine_quality_root_mean_squared_error: 0.5578 - val_wine_type_accuracy: 0.9962\n",
      "Epoch 74/180\n",
      "99/99 [==============================] - 1s 5ms/step - loss: 0.3174 - wine_quality_loss: 0.2964 - wine_type_loss: 0.0210 - wine_quality_root_mean_squared_error: 0.5444 - wine_type_accuracy: 0.9965 - val_loss: 0.3380 - val_wine_quality_loss: 0.3124 - val_wine_type_loss: 0.0256 - val_wine_quality_root_mean_squared_error: 0.5589 - val_wine_type_accuracy: 0.9962\n",
      "Epoch 75/180\n",
      "99/99 [==============================] - 0s 4ms/step - loss: 0.3167 - wine_quality_loss: 0.2959 - wine_type_loss: 0.0209 - wine_quality_root_mean_squared_error: 0.5439 - wine_type_accuracy: 0.9962 - val_loss: 0.3455 - val_wine_quality_loss: 0.3199 - val_wine_type_loss: 0.0256 - val_wine_quality_root_mean_squared_error: 0.5656 - val_wine_type_accuracy: 0.9962\n",
      "Epoch 76/180\n",
      "99/99 [==============================] - 1s 10ms/step - loss: 0.3167 - wine_quality_loss: 0.2960 - wine_type_loss: 0.0207 - wine_quality_root_mean_squared_error: 0.5440 - wine_type_accuracy: 0.9962 - val_loss: 0.3405 - val_wine_quality_loss: 0.3149 - val_wine_type_loss: 0.0256 - val_wine_quality_root_mean_squared_error: 0.5612 - val_wine_type_accuracy: 0.9962\n",
      "Epoch 77/180\n",
      "99/99 [==============================] - 0s 4ms/step - loss: 0.3152 - wine_quality_loss: 0.2946 - wine_type_loss: 0.0206 - wine_quality_root_mean_squared_error: 0.5428 - wine_type_accuracy: 0.9962 - val_loss: 0.3385 - val_wine_quality_loss: 0.3131 - val_wine_type_loss: 0.0254 - val_wine_quality_root_mean_squared_error: 0.5595 - val_wine_type_accuracy: 0.9962\n",
      "Epoch 78/180\n",
      "99/99 [==============================] - 0s 2ms/step - loss: 0.3135 - wine_quality_loss: 0.2930 - wine_type_loss: 0.0205 - wine_quality_root_mean_squared_error: 0.5413 - wine_type_accuracy: 0.9962 - val_loss: 0.3364 - val_wine_quality_loss: 0.3111 - val_wine_type_loss: 0.0254 - val_wine_quality_root_mean_squared_error: 0.5577 - val_wine_type_accuracy: 0.9962\n",
      "Epoch 79/180\n",
      "99/99 [==============================] - 0s 2ms/step - loss: 0.3124 - wine_quality_loss: 0.2920 - wine_type_loss: 0.0204 - wine_quality_root_mean_squared_error: 0.5403 - wine_type_accuracy: 0.9962 - val_loss: 0.3395 - val_wine_quality_loss: 0.3141 - val_wine_type_loss: 0.0254 - val_wine_quality_root_mean_squared_error: 0.5604 - val_wine_type_accuracy: 0.9962\n",
      "Epoch 80/180\n",
      "99/99 [==============================] - 0s 2ms/step - loss: 0.3130 - wine_quality_loss: 0.2928 - wine_type_loss: 0.0202 - wine_quality_root_mean_squared_error: 0.5411 - wine_type_accuracy: 0.9965 - val_loss: 0.3357 - val_wine_quality_loss: 0.3103 - val_wine_type_loss: 0.0254 - val_wine_quality_root_mean_squared_error: 0.5570 - val_wine_type_accuracy: 0.9962\n",
      "Epoch 81/180\n",
      "99/99 [==============================] - 0s 2ms/step - loss: 0.3119 - wine_quality_loss: 0.2917 - wine_type_loss: 0.0202 - wine_quality_root_mean_squared_error: 0.5401 - wine_type_accuracy: 0.9965 - val_loss: 0.3400 - val_wine_quality_loss: 0.3146 - val_wine_type_loss: 0.0254 - val_wine_quality_root_mean_squared_error: 0.5609 - val_wine_type_accuracy: 0.9962\n",
      "Epoch 82/180\n",
      "99/99 [==============================] - 0s 3ms/step - loss: 0.3098 - wine_quality_loss: 0.2898 - wine_type_loss: 0.0200 - wine_quality_root_mean_squared_error: 0.5383 - wine_type_accuracy: 0.9965 - val_loss: 0.3393 - val_wine_quality_loss: 0.3139 - val_wine_type_loss: 0.0253 - val_wine_quality_root_mean_squared_error: 0.5603 - val_wine_type_accuracy: 0.9962\n",
      "Epoch 83/180\n",
      "99/99 [==============================] - 0s 3ms/step - loss: 0.3100 - wine_quality_loss: 0.2901 - wine_type_loss: 0.0199 - wine_quality_root_mean_squared_error: 0.5386 - wine_type_accuracy: 0.9965 - val_loss: 0.3389 - val_wine_quality_loss: 0.3138 - val_wine_type_loss: 0.0251 - val_wine_quality_root_mean_squared_error: 0.5602 - val_wine_type_accuracy: 0.9962\n",
      "Epoch 84/180\n",
      "99/99 [==============================] - 0s 3ms/step - loss: 0.3085 - wine_quality_loss: 0.2887 - wine_type_loss: 0.0198 - wine_quality_root_mean_squared_error: 0.5373 - wine_type_accuracy: 0.9965 - val_loss: 0.3401 - val_wine_quality_loss: 0.3151 - val_wine_type_loss: 0.0251 - val_wine_quality_root_mean_squared_error: 0.5613 - val_wine_type_accuracy: 0.9962\n",
      "Epoch 85/180\n",
      "99/99 [==============================] - 0s 3ms/step - loss: 0.3087 - wine_quality_loss: 0.2890 - wine_type_loss: 0.0197 - wine_quality_root_mean_squared_error: 0.5376 - wine_type_accuracy: 0.9965 - val_loss: 0.3363 - val_wine_quality_loss: 0.3113 - val_wine_type_loss: 0.0251 - val_wine_quality_root_mean_squared_error: 0.5579 - val_wine_type_accuracy: 0.9962\n",
      "Epoch 86/180\n",
      "99/99 [==============================] - 0s 3ms/step - loss: 0.3083 - wine_quality_loss: 0.2887 - wine_type_loss: 0.0196 - wine_quality_root_mean_squared_error: 0.5373 - wine_type_accuracy: 0.9965 - val_loss: 0.3368 - val_wine_quality_loss: 0.3118 - val_wine_type_loss: 0.0250 - val_wine_quality_root_mean_squared_error: 0.5583 - val_wine_type_accuracy: 0.9962\n",
      "Epoch 87/180\n",
      "99/99 [==============================] - 0s 4ms/step - loss: 0.3072 - wine_quality_loss: 0.2878 - wine_type_loss: 0.0194 - wine_quality_root_mean_squared_error: 0.5364 - wine_type_accuracy: 0.9965 - val_loss: 0.3388 - val_wine_quality_loss: 0.3139 - val_wine_type_loss: 0.0249 - val_wine_quality_root_mean_squared_error: 0.5603 - val_wine_type_accuracy: 0.9962\n",
      "Epoch 88/180\n",
      "99/99 [==============================] - 0s 4ms/step - loss: 0.3074 - wine_quality_loss: 0.2880 - wine_type_loss: 0.0194 - wine_quality_root_mean_squared_error: 0.5367 - wine_type_accuracy: 0.9965 - val_loss: 0.3365 - val_wine_quality_loss: 0.3116 - val_wine_type_loss: 0.0249 - val_wine_quality_root_mean_squared_error: 0.5582 - val_wine_type_accuracy: 0.9962\n",
      "Epoch 89/180\n",
      "99/99 [==============================] - 0s 4ms/step - loss: 0.3054 - wine_quality_loss: 0.2862 - wine_type_loss: 0.0193 - wine_quality_root_mean_squared_error: 0.5350 - wine_type_accuracy: 0.9965 - val_loss: 0.3459 - val_wine_quality_loss: 0.3210 - val_wine_type_loss: 0.0249 - val_wine_quality_root_mean_squared_error: 0.5665 - val_wine_type_accuracy: 0.9962\n",
      "Epoch 90/180\n",
      "99/99 [==============================] - 0s 3ms/step - loss: 0.3056 - wine_quality_loss: 0.2865 - wine_type_loss: 0.0192 - wine_quality_root_mean_squared_error: 0.5352 - wine_type_accuracy: 0.9965 - val_loss: 0.3323 - val_wine_quality_loss: 0.3074 - val_wine_type_loss: 0.0249 - val_wine_quality_root_mean_squared_error: 0.5544 - val_wine_type_accuracy: 0.9962\n",
      "Epoch 91/180\n",
      "99/99 [==============================] - 0s 3ms/step - loss: 0.3047 - wine_quality_loss: 0.2856 - wine_type_loss: 0.0191 - wine_quality_root_mean_squared_error: 0.5344 - wine_type_accuracy: 0.9965 - val_loss: 0.3382 - val_wine_quality_loss: 0.3134 - val_wine_type_loss: 0.0248 - val_wine_quality_root_mean_squared_error: 0.5598 - val_wine_type_accuracy: 0.9962\n",
      "Epoch 92/180\n",
      "99/99 [==============================] - 0s 3ms/step - loss: 0.3038 - wine_quality_loss: 0.2848 - wine_type_loss: 0.0190 - wine_quality_root_mean_squared_error: 0.5337 - wine_type_accuracy: 0.9965 - val_loss: 0.3356 - val_wine_quality_loss: 0.3109 - val_wine_type_loss: 0.0247 - val_wine_quality_root_mean_squared_error: 0.5576 - val_wine_type_accuracy: 0.9962\n",
      "Epoch 93/180\n",
      "99/99 [==============================] - 0s 3ms/step - loss: 0.3039 - wine_quality_loss: 0.2851 - wine_type_loss: 0.0188 - wine_quality_root_mean_squared_error: 0.5340 - wine_type_accuracy: 0.9965 - val_loss: 0.3374 - val_wine_quality_loss: 0.3127 - val_wine_type_loss: 0.0247 - val_wine_quality_root_mean_squared_error: 0.5592 - val_wine_type_accuracy: 0.9962\n",
      "Epoch 94/180\n",
      "99/99 [==============================] - 0s 3ms/step - loss: 0.3023 - wine_quality_loss: 0.2835 - wine_type_loss: 0.0188 - wine_quality_root_mean_squared_error: 0.5324 - wine_type_accuracy: 0.9965 - val_loss: 0.3344 - val_wine_quality_loss: 0.3096 - val_wine_type_loss: 0.0247 - val_wine_quality_root_mean_squared_error: 0.5564 - val_wine_type_accuracy: 0.9962\n",
      "Epoch 95/180\n",
      "99/99 [==============================] - 0s 2ms/step - loss: 0.3011 - wine_quality_loss: 0.2825 - wine_type_loss: 0.0186 - wine_quality_root_mean_squared_error: 0.5315 - wine_type_accuracy: 0.9965 - val_loss: 0.3341 - val_wine_quality_loss: 0.3094 - val_wine_type_loss: 0.0247 - val_wine_quality_root_mean_squared_error: 0.5562 - val_wine_type_accuracy: 0.9962\n",
      "Epoch 96/180\n",
      "99/99 [==============================] - 0s 3ms/step - loss: 0.3012 - wine_quality_loss: 0.2827 - wine_type_loss: 0.0186 - wine_quality_root_mean_squared_error: 0.5317 - wine_type_accuracy: 0.9965 - val_loss: 0.3333 - val_wine_quality_loss: 0.3086 - val_wine_type_loss: 0.0247 - val_wine_quality_root_mean_squared_error: 0.5555 - val_wine_type_accuracy: 0.9962\n",
      "Epoch 97/180\n",
      "99/99 [==============================] - 0s 2ms/step - loss: 0.2999 - wine_quality_loss: 0.2815 - wine_type_loss: 0.0185 - wine_quality_root_mean_squared_error: 0.5305 - wine_type_accuracy: 0.9965 - val_loss: 0.3431 - val_wine_quality_loss: 0.3185 - val_wine_type_loss: 0.0246 - val_wine_quality_root_mean_squared_error: 0.5643 - val_wine_type_accuracy: 0.9962\n",
      "Epoch 98/180\n",
      "99/99 [==============================] - 0s 3ms/step - loss: 0.3007 - wine_quality_loss: 0.2824 - wine_type_loss: 0.0183 - wine_quality_root_mean_squared_error: 0.5314 - wine_type_accuracy: 0.9965 - val_loss: 0.3322 - val_wine_quality_loss: 0.3076 - val_wine_type_loss: 0.0246 - val_wine_quality_root_mean_squared_error: 0.5546 - val_wine_type_accuracy: 0.9962\n",
      "Epoch 99/180\n",
      "99/99 [==============================] - 0s 2ms/step - loss: 0.2996 - wine_quality_loss: 0.2814 - wine_type_loss: 0.0182 - wine_quality_root_mean_squared_error: 0.5304 - wine_type_accuracy: 0.9965 - val_loss: 0.3337 - val_wine_quality_loss: 0.3090 - val_wine_type_loss: 0.0247 - val_wine_quality_root_mean_squared_error: 0.5559 - val_wine_type_accuracy: 0.9962\n",
      "Epoch 100/180\n",
      "99/99 [==============================] - 0s 2ms/step - loss: 0.2987 - wine_quality_loss: 0.2806 - wine_type_loss: 0.0181 - wine_quality_root_mean_squared_error: 0.5297 - wine_type_accuracy: 0.9965 - val_loss: 0.3403 - val_wine_quality_loss: 0.3156 - val_wine_type_loss: 0.0247 - val_wine_quality_root_mean_squared_error: 0.5618 - val_wine_type_accuracy: 0.9962\n",
      "Epoch 101/180\n",
      "99/99 [==============================] - 0s 2ms/step - loss: 0.2986 - wine_quality_loss: 0.2806 - wine_type_loss: 0.0180 - wine_quality_root_mean_squared_error: 0.5297 - wine_type_accuracy: 0.9965 - val_loss: 0.3299 - val_wine_quality_loss: 0.3054 - val_wine_type_loss: 0.0245 - val_wine_quality_root_mean_squared_error: 0.5526 - val_wine_type_accuracy: 0.9962\n",
      "Epoch 102/180\n",
      "99/99 [==============================] - 0s 3ms/step - loss: 0.2975 - wine_quality_loss: 0.2795 - wine_type_loss: 0.0179 - wine_quality_root_mean_squared_error: 0.5287 - wine_type_accuracy: 0.9965 - val_loss: 0.3313 - val_wine_quality_loss: 0.3069 - val_wine_type_loss: 0.0244 - val_wine_quality_root_mean_squared_error: 0.5540 - val_wine_type_accuracy: 0.9962\n",
      "Epoch 103/180\n",
      "99/99 [==============================] - 0s 2ms/step - loss: 0.2973 - wine_quality_loss: 0.2794 - wine_type_loss: 0.0179 - wine_quality_root_mean_squared_error: 0.5286 - wine_type_accuracy: 0.9965 - val_loss: 0.3307 - val_wine_quality_loss: 0.3062 - val_wine_type_loss: 0.0245 - val_wine_quality_root_mean_squared_error: 0.5533 - val_wine_type_accuracy: 0.9962\n",
      "Epoch 104/180\n",
      "99/99 [==============================] - 0s 2ms/step - loss: 0.2962 - wine_quality_loss: 0.2784 - wine_type_loss: 0.0178 - wine_quality_root_mean_squared_error: 0.5276 - wine_type_accuracy: 0.9965 - val_loss: 0.3363 - val_wine_quality_loss: 0.3118 - val_wine_type_loss: 0.0245 - val_wine_quality_root_mean_squared_error: 0.5584 - val_wine_type_accuracy: 0.9962\n",
      "Epoch 105/180\n",
      "99/99 [==============================] - 0s 2ms/step - loss: 0.2963 - wine_quality_loss: 0.2787 - wine_type_loss: 0.0177 - wine_quality_root_mean_squared_error: 0.5279 - wine_type_accuracy: 0.9965 - val_loss: 0.3370 - val_wine_quality_loss: 0.3125 - val_wine_type_loss: 0.0244 - val_wine_quality_root_mean_squared_error: 0.5591 - val_wine_type_accuracy: 0.9962\n",
      "Epoch 106/180\n",
      "99/99 [==============================] - 0s 3ms/step - loss: 0.2955 - wine_quality_loss: 0.2779 - wine_type_loss: 0.0176 - wine_quality_root_mean_squared_error: 0.5272 - wine_type_accuracy: 0.9968 - val_loss: 0.3341 - val_wine_quality_loss: 0.3096 - val_wine_type_loss: 0.0245 - val_wine_quality_root_mean_squared_error: 0.5564 - val_wine_type_accuracy: 0.9962\n",
      "Epoch 107/180\n",
      "99/99 [==============================] - 0s 3ms/step - loss: 0.2950 - wine_quality_loss: 0.2775 - wine_type_loss: 0.0175 - wine_quality_root_mean_squared_error: 0.5268 - wine_type_accuracy: 0.9968 - val_loss: 0.3306 - val_wine_quality_loss: 0.3061 - val_wine_type_loss: 0.0244 - val_wine_quality_root_mean_squared_error: 0.5533 - val_wine_type_accuracy: 0.9962\n",
      "Epoch 108/180\n",
      "99/99 [==============================] - 0s 2ms/step - loss: 0.2944 - wine_quality_loss: 0.2770 - wine_type_loss: 0.0174 - wine_quality_root_mean_squared_error: 0.5263 - wine_type_accuracy: 0.9965 - val_loss: 0.3317 - val_wine_quality_loss: 0.3073 - val_wine_type_loss: 0.0244 - val_wine_quality_root_mean_squared_error: 0.5543 - val_wine_type_accuracy: 0.9962\n",
      "Epoch 109/180\n",
      "99/99 [==============================] - 0s 3ms/step - loss: 0.2940 - wine_quality_loss: 0.2767 - wine_type_loss: 0.0173 - wine_quality_root_mean_squared_error: 0.5260 - wine_type_accuracy: 0.9968 - val_loss: 0.3326 - val_wine_quality_loss: 0.3081 - val_wine_type_loss: 0.0245 - val_wine_quality_root_mean_squared_error: 0.5551 - val_wine_type_accuracy: 0.9962\n",
      "Epoch 110/180\n",
      "99/99 [==============================] - 0s 3ms/step - loss: 0.2920 - wine_quality_loss: 0.2748 - wine_type_loss: 0.0172 - wine_quality_root_mean_squared_error: 0.5242 - wine_type_accuracy: 0.9968 - val_loss: 0.3327 - val_wine_quality_loss: 0.3082 - val_wine_type_loss: 0.0245 - val_wine_quality_root_mean_squared_error: 0.5551 - val_wine_type_accuracy: 0.9962\n",
      "Epoch 111/180\n",
      "99/99 [==============================] - 0s 3ms/step - loss: 0.2927 - wine_quality_loss: 0.2755 - wine_type_loss: 0.0172 - wine_quality_root_mean_squared_error: 0.5249 - wine_type_accuracy: 0.9965 - val_loss: 0.3294 - val_wine_quality_loss: 0.3049 - val_wine_type_loss: 0.0244 - val_wine_quality_root_mean_squared_error: 0.5522 - val_wine_type_accuracy: 0.9962\n",
      "Epoch 112/180\n",
      "99/99 [==============================] - 0s 3ms/step - loss: 0.2928 - wine_quality_loss: 0.2757 - wine_type_loss: 0.0171 - wine_quality_root_mean_squared_error: 0.5251 - wine_type_accuracy: 0.9965 - val_loss: 0.3263 - val_wine_quality_loss: 0.3020 - val_wine_type_loss: 0.0243 - val_wine_quality_root_mean_squared_error: 0.5496 - val_wine_type_accuracy: 0.9962\n",
      "Epoch 113/180\n",
      "99/99 [==============================] - 0s 3ms/step - loss: 0.2910 - wine_quality_loss: 0.2740 - wine_type_loss: 0.0170 - wine_quality_root_mean_squared_error: 0.5235 - wine_type_accuracy: 0.9965 - val_loss: 0.3301 - val_wine_quality_loss: 0.3059 - val_wine_type_loss: 0.0243 - val_wine_quality_root_mean_squared_error: 0.5531 - val_wine_type_accuracy: 0.9962\n",
      "Epoch 114/180\n",
      "99/99 [==============================] - 0s 3ms/step - loss: 0.2918 - wine_quality_loss: 0.2749 - wine_type_loss: 0.0169 - wine_quality_root_mean_squared_error: 0.5244 - wine_type_accuracy: 0.9968 - val_loss: 0.3293 - val_wine_quality_loss: 0.3050 - val_wine_type_loss: 0.0243 - val_wine_quality_root_mean_squared_error: 0.5523 - val_wine_type_accuracy: 0.9962\n",
      "Epoch 115/180\n",
      "99/99 [==============================] - 0s 3ms/step - loss: 0.2895 - wine_quality_loss: 0.2727 - wine_type_loss: 0.0168 - wine_quality_root_mean_squared_error: 0.5222 - wine_type_accuracy: 0.9965 - val_loss: 0.3365 - val_wine_quality_loss: 0.3121 - val_wine_type_loss: 0.0243 - val_wine_quality_root_mean_squared_error: 0.5587 - val_wine_type_accuracy: 0.9949\n",
      "Epoch 116/180\n",
      "99/99 [==============================] - 0s 3ms/step - loss: 0.2911 - wine_quality_loss: 0.2744 - wine_type_loss: 0.0168 - wine_quality_root_mean_squared_error: 0.5238 - wine_type_accuracy: 0.9968 - val_loss: 0.3281 - val_wine_quality_loss: 0.3038 - val_wine_type_loss: 0.0243 - val_wine_quality_root_mean_squared_error: 0.5512 - val_wine_type_accuracy: 0.9949\n",
      "Epoch 117/180\n",
      "99/99 [==============================] - 0s 5ms/step - loss: 0.2905 - wine_quality_loss: 0.2739 - wine_type_loss: 0.0167 - wine_quality_root_mean_squared_error: 0.5233 - wine_type_accuracy: 0.9965 - val_loss: 0.3305 - val_wine_quality_loss: 0.3062 - val_wine_type_loss: 0.0243 - val_wine_quality_root_mean_squared_error: 0.5533 - val_wine_type_accuracy: 0.9949\n",
      "Epoch 118/180\n",
      "99/99 [==============================] - 0s 4ms/step - loss: 0.2893 - wine_quality_loss: 0.2727 - wine_type_loss: 0.0166 - wine_quality_root_mean_squared_error: 0.5222 - wine_type_accuracy: 0.9968 - val_loss: 0.3283 - val_wine_quality_loss: 0.3041 - val_wine_type_loss: 0.0242 - val_wine_quality_root_mean_squared_error: 0.5514 - val_wine_type_accuracy: 0.9949\n",
      "Epoch 119/180\n",
      "99/99 [==============================] - 0s 3ms/step - loss: 0.2887 - wine_quality_loss: 0.2722 - wine_type_loss: 0.0165 - wine_quality_root_mean_squared_error: 0.5217 - wine_type_accuracy: 0.9968 - val_loss: 0.3424 - val_wine_quality_loss: 0.3182 - val_wine_type_loss: 0.0242 - val_wine_quality_root_mean_squared_error: 0.5641 - val_wine_type_accuracy: 0.9949\n",
      "Epoch 120/180\n",
      "99/99 [==============================] - 0s 3ms/step - loss: 0.2885 - wine_quality_loss: 0.2721 - wine_type_loss: 0.0164 - wine_quality_root_mean_squared_error: 0.5216 - wine_type_accuracy: 0.9968 - val_loss: 0.3325 - val_wine_quality_loss: 0.3083 - val_wine_type_loss: 0.0242 - val_wine_quality_root_mean_squared_error: 0.5552 - val_wine_type_accuracy: 0.9949\n",
      "Epoch 121/180\n",
      "99/99 [==============================] - 0s 3ms/step - loss: 0.2885 - wine_quality_loss: 0.2722 - wine_type_loss: 0.0164 - wine_quality_root_mean_squared_error: 0.5217 - wine_type_accuracy: 0.9968 - val_loss: 0.3317 - val_wine_quality_loss: 0.3074 - val_wine_type_loss: 0.0243 - val_wine_quality_root_mean_squared_error: 0.5544 - val_wine_type_accuracy: 0.9949\n",
      "Epoch 122/180\n",
      "99/99 [==============================] - 0s 3ms/step - loss: 0.2873 - wine_quality_loss: 0.2710 - wine_type_loss: 0.0163 - wine_quality_root_mean_squared_error: 0.5205 - wine_type_accuracy: 0.9968 - val_loss: 0.3273 - val_wine_quality_loss: 0.3030 - val_wine_type_loss: 0.0243 - val_wine_quality_root_mean_squared_error: 0.5505 - val_wine_type_accuracy: 0.9949\n",
      "Epoch 123/180\n",
      "99/99 [==============================] - 0s 3ms/step - loss: 0.2876 - wine_quality_loss: 0.2714 - wine_type_loss: 0.0162 - wine_quality_root_mean_squared_error: 0.5209 - wine_type_accuracy: 0.9968 - val_loss: 0.3280 - val_wine_quality_loss: 0.3037 - val_wine_type_loss: 0.0243 - val_wine_quality_root_mean_squared_error: 0.5511 - val_wine_type_accuracy: 0.9949\n",
      "Epoch 124/180\n",
      "99/99 [==============================] - 0s 3ms/step - loss: 0.2871 - wine_quality_loss: 0.2709 - wine_type_loss: 0.0162 - wine_quality_root_mean_squared_error: 0.5205 - wine_type_accuracy: 0.9968 - val_loss: 0.3353 - val_wine_quality_loss: 0.3111 - val_wine_type_loss: 0.0243 - val_wine_quality_root_mean_squared_error: 0.5577 - val_wine_type_accuracy: 0.9949\n",
      "Epoch 125/180\n",
      "99/99 [==============================] - 0s 2ms/step - loss: 0.2866 - wine_quality_loss: 0.2705 - wine_type_loss: 0.0161 - wine_quality_root_mean_squared_error: 0.5201 - wine_type_accuracy: 0.9968 - val_loss: 0.3352 - val_wine_quality_loss: 0.3111 - val_wine_type_loss: 0.0242 - val_wine_quality_root_mean_squared_error: 0.5577 - val_wine_type_accuracy: 0.9949\n",
      "Epoch 126/180\n",
      "99/99 [==============================] - 0s 3ms/step - loss: 0.2856 - wine_quality_loss: 0.2696 - wine_type_loss: 0.0160 - wine_quality_root_mean_squared_error: 0.5192 - wine_type_accuracy: 0.9965 - val_loss: 0.3346 - val_wine_quality_loss: 0.3104 - val_wine_type_loss: 0.0243 - val_wine_quality_root_mean_squared_error: 0.5571 - val_wine_type_accuracy: 0.9949\n",
      "Epoch 127/180\n",
      "99/99 [==============================] - 0s 3ms/step - loss: 0.2853 - wine_quality_loss: 0.2694 - wine_type_loss: 0.0159 - wine_quality_root_mean_squared_error: 0.5190 - wine_type_accuracy: 0.9968 - val_loss: 0.3362 - val_wine_quality_loss: 0.3120 - val_wine_type_loss: 0.0242 - val_wine_quality_root_mean_squared_error: 0.5586 - val_wine_type_accuracy: 0.9949\n",
      "Epoch 128/180\n",
      "99/99 [==============================] - 0s 3ms/step - loss: 0.2846 - wine_quality_loss: 0.2687 - wine_type_loss: 0.0159 - wine_quality_root_mean_squared_error: 0.5184 - wine_type_accuracy: 0.9968 - val_loss: 0.3267 - val_wine_quality_loss: 0.3026 - val_wine_type_loss: 0.0241 - val_wine_quality_root_mean_squared_error: 0.5501 - val_wine_type_accuracy: 0.9949\n",
      "Epoch 129/180\n",
      "99/99 [==============================] - 0s 3ms/step - loss: 0.2839 - wine_quality_loss: 0.2681 - wine_type_loss: 0.0158 - wine_quality_root_mean_squared_error: 0.5178 - wine_type_accuracy: 0.9968 - val_loss: 0.3362 - val_wine_quality_loss: 0.3119 - val_wine_type_loss: 0.0243 - val_wine_quality_root_mean_squared_error: 0.5585 - val_wine_type_accuracy: 0.9949\n",
      "Epoch 130/180\n",
      "99/99 [==============================] - 0s 3ms/step - loss: 0.2837 - wine_quality_loss: 0.2680 - wine_type_loss: 0.0157 - wine_quality_root_mean_squared_error: 0.5177 - wine_type_accuracy: 0.9968 - val_loss: 0.3404 - val_wine_quality_loss: 0.3160 - val_wine_type_loss: 0.0244 - val_wine_quality_root_mean_squared_error: 0.5621 - val_wine_type_accuracy: 0.9949\n",
      "Epoch 131/180\n",
      "99/99 [==============================] - 0s 2ms/step - loss: 0.2837 - wine_quality_loss: 0.2680 - wine_type_loss: 0.0157 - wine_quality_root_mean_squared_error: 0.5177 - wine_type_accuracy: 0.9968 - val_loss: 0.3272 - val_wine_quality_loss: 0.3030 - val_wine_type_loss: 0.0242 - val_wine_quality_root_mean_squared_error: 0.5504 - val_wine_type_accuracy: 0.9949\n",
      "Epoch 132/180\n",
      "99/99 [==============================] - 0s 2ms/step - loss: 0.2829 - wine_quality_loss: 0.2673 - wine_type_loss: 0.0156 - wine_quality_root_mean_squared_error: 0.5170 - wine_type_accuracy: 0.9968 - val_loss: 0.3359 - val_wine_quality_loss: 0.3117 - val_wine_type_loss: 0.0242 - val_wine_quality_root_mean_squared_error: 0.5583 - val_wine_type_accuracy: 0.9949\n",
      "Epoch 133/180\n",
      "99/99 [==============================] - 0s 2ms/step - loss: 0.2836 - wine_quality_loss: 0.2681 - wine_type_loss: 0.0155 - wine_quality_root_mean_squared_error: 0.5178 - wine_type_accuracy: 0.9968 - val_loss: 0.3267 - val_wine_quality_loss: 0.3025 - val_wine_type_loss: 0.0242 - val_wine_quality_root_mean_squared_error: 0.5500 - val_wine_type_accuracy: 0.9949\n",
      "Epoch 134/180\n",
      "99/99 [==============================] - 0s 5ms/step - loss: 0.2822 - wine_quality_loss: 0.2668 - wine_type_loss: 0.0154 - wine_quality_root_mean_squared_error: 0.5165 - wine_type_accuracy: 0.9968 - val_loss: 0.3322 - val_wine_quality_loss: 0.3079 - val_wine_type_loss: 0.0243 - val_wine_quality_root_mean_squared_error: 0.5548 - val_wine_type_accuracy: 0.9949\n",
      "Epoch 135/180\n",
      "99/99 [==============================] - 0s 3ms/step - loss: 0.2818 - wine_quality_loss: 0.2664 - wine_type_loss: 0.0154 - wine_quality_root_mean_squared_error: 0.5161 - wine_type_accuracy: 0.9968 - val_loss: 0.3320 - val_wine_quality_loss: 0.3078 - val_wine_type_loss: 0.0242 - val_wine_quality_root_mean_squared_error: 0.5548 - val_wine_type_accuracy: 0.9949\n",
      "Epoch 136/180\n",
      "99/99 [==============================] - 0s 3ms/step - loss: 0.2814 - wine_quality_loss: 0.2661 - wine_type_loss: 0.0153 - wine_quality_root_mean_squared_error: 0.5159 - wine_type_accuracy: 0.9968 - val_loss: 0.3292 - val_wine_quality_loss: 0.3050 - val_wine_type_loss: 0.0241 - val_wine_quality_root_mean_squared_error: 0.5523 - val_wine_type_accuracy: 0.9937\n",
      "Epoch 137/180\n",
      "99/99 [==============================] - 0s 4ms/step - loss: 0.2803 - wine_quality_loss: 0.2650 - wine_type_loss: 0.0153 - wine_quality_root_mean_squared_error: 0.5148 - wine_type_accuracy: 0.9968 - val_loss: 0.3351 - val_wine_quality_loss: 0.3111 - val_wine_type_loss: 0.0240 - val_wine_quality_root_mean_squared_error: 0.5578 - val_wine_type_accuracy: 0.9937\n",
      "Epoch 138/180\n",
      "99/99 [==============================] - 0s 4ms/step - loss: 0.2799 - wine_quality_loss: 0.2647 - wine_type_loss: 0.0152 - wine_quality_root_mean_squared_error: 0.5145 - wine_type_accuracy: 0.9968 - val_loss: 0.3331 - val_wine_quality_loss: 0.3091 - val_wine_type_loss: 0.0240 - val_wine_quality_root_mean_squared_error: 0.5559 - val_wine_type_accuracy: 0.9937\n",
      "Epoch 139/180\n",
      "99/99 [==============================] - 0s 4ms/step - loss: 0.2803 - wine_quality_loss: 0.2652 - wine_type_loss: 0.0151 - wine_quality_root_mean_squared_error: 0.5150 - wine_type_accuracy: 0.9968 - val_loss: 0.3524 - val_wine_quality_loss: 0.3283 - val_wine_type_loss: 0.0241 - val_wine_quality_root_mean_squared_error: 0.5730 - val_wine_type_accuracy: 0.9937\n",
      "Epoch 140/180\n",
      "99/99 [==============================] - 0s 4ms/step - loss: 0.2795 - wine_quality_loss: 0.2644 - wine_type_loss: 0.0151 - wine_quality_root_mean_squared_error: 0.5142 - wine_type_accuracy: 0.9968 - val_loss: 0.3285 - val_wine_quality_loss: 0.3045 - val_wine_type_loss: 0.0240 - val_wine_quality_root_mean_squared_error: 0.5518 - val_wine_type_accuracy: 0.9937\n",
      "Epoch 141/180\n",
      "99/99 [==============================] - 0s 4ms/step - loss: 0.2796 - wine_quality_loss: 0.2646 - wine_type_loss: 0.0150 - wine_quality_root_mean_squared_error: 0.5144 - wine_type_accuracy: 0.9968 - val_loss: 0.3253 - val_wine_quality_loss: 0.3011 - val_wine_type_loss: 0.0241 - val_wine_quality_root_mean_squared_error: 0.5488 - val_wine_type_accuracy: 0.9949\n",
      "Epoch 142/180\n",
      "99/99 [==============================] - 0s 4ms/step - loss: 0.2796 - wine_quality_loss: 0.2646 - wine_type_loss: 0.0150 - wine_quality_root_mean_squared_error: 0.5144 - wine_type_accuracy: 0.9968 - val_loss: 0.3275 - val_wine_quality_loss: 0.3034 - val_wine_type_loss: 0.0241 - val_wine_quality_root_mean_squared_error: 0.5508 - val_wine_type_accuracy: 0.9937\n",
      "Epoch 143/180\n",
      "99/99 [==============================] - 0s 4ms/step - loss: 0.2784 - wine_quality_loss: 0.2635 - wine_type_loss: 0.0149 - wine_quality_root_mean_squared_error: 0.5133 - wine_type_accuracy: 0.9971 - val_loss: 0.3246 - val_wine_quality_loss: 0.3006 - val_wine_type_loss: 0.0240 - val_wine_quality_root_mean_squared_error: 0.5483 - val_wine_type_accuracy: 0.9937\n",
      "Epoch 144/180\n",
      "99/99 [==============================] - 0s 4ms/step - loss: 0.2785 - wine_quality_loss: 0.2637 - wine_type_loss: 0.0148 - wine_quality_root_mean_squared_error: 0.5135 - wine_type_accuracy: 0.9968 - val_loss: 0.3269 - val_wine_quality_loss: 0.3028 - val_wine_type_loss: 0.0241 - val_wine_quality_root_mean_squared_error: 0.5503 - val_wine_type_accuracy: 0.9937\n",
      "Epoch 145/180\n",
      "99/99 [==============================] - 0s 2ms/step - loss: 0.2780 - wine_quality_loss: 0.2632 - wine_type_loss: 0.0148 - wine_quality_root_mean_squared_error: 0.5130 - wine_type_accuracy: 0.9968 - val_loss: 0.3285 - val_wine_quality_loss: 0.3043 - val_wine_type_loss: 0.0241 - val_wine_quality_root_mean_squared_error: 0.5517 - val_wine_type_accuracy: 0.9949\n",
      "Epoch 146/180\n",
      "99/99 [==============================] - 0s 1ms/step - loss: 0.2773 - wine_quality_loss: 0.2626 - wine_type_loss: 0.0147 - wine_quality_root_mean_squared_error: 0.5125 - wine_type_accuracy: 0.9968 - val_loss: 0.3264 - val_wine_quality_loss: 0.3022 - val_wine_type_loss: 0.0242 - val_wine_quality_root_mean_squared_error: 0.5497 - val_wine_type_accuracy: 0.9949\n",
      "Epoch 147/180\n",
      "99/99 [==============================] - 0s 2ms/step - loss: 0.2771 - wine_quality_loss: 0.2624 - wine_type_loss: 0.0147 - wine_quality_root_mean_squared_error: 0.5123 - wine_type_accuracy: 0.9968 - val_loss: 0.3291 - val_wine_quality_loss: 0.3050 - val_wine_type_loss: 0.0241 - val_wine_quality_root_mean_squared_error: 0.5522 - val_wine_type_accuracy: 0.9937\n",
      "Epoch 148/180\n",
      "99/99 [==============================] - 0s 1ms/step - loss: 0.2759 - wine_quality_loss: 0.2614 - wine_type_loss: 0.0146 - wine_quality_root_mean_squared_error: 0.5112 - wine_type_accuracy: 0.9971 - val_loss: 0.3308 - val_wine_quality_loss: 0.3065 - val_wine_type_loss: 0.0243 - val_wine_quality_root_mean_squared_error: 0.5536 - val_wine_type_accuracy: 0.9949\n",
      "Epoch 149/180\n",
      "99/99 [==============================] - 0s 2ms/step - loss: 0.2756 - wine_quality_loss: 0.2610 - wine_type_loss: 0.0145 - wine_quality_root_mean_squared_error: 0.5109 - wine_type_accuracy: 0.9971 - val_loss: 0.3338 - val_wine_quality_loss: 0.3096 - val_wine_type_loss: 0.0241 - val_wine_quality_root_mean_squared_error: 0.5564 - val_wine_type_accuracy: 0.9937\n",
      "Epoch 150/180\n",
      "99/99 [==============================] - 0s 2ms/step - loss: 0.2759 - wine_quality_loss: 0.2614 - wine_type_loss: 0.0144 - wine_quality_root_mean_squared_error: 0.5113 - wine_type_accuracy: 0.9968 - val_loss: 0.3343 - val_wine_quality_loss: 0.3100 - val_wine_type_loss: 0.0243 - val_wine_quality_root_mean_squared_error: 0.5568 - val_wine_type_accuracy: 0.9949\n",
      "Epoch 151/180\n",
      "99/99 [==============================] - 0s 2ms/step - loss: 0.2756 - wine_quality_loss: 0.2612 - wine_type_loss: 0.0144 - wine_quality_root_mean_squared_error: 0.5111 - wine_type_accuracy: 0.9968 - val_loss: 0.3297 - val_wine_quality_loss: 0.3056 - val_wine_type_loss: 0.0241 - val_wine_quality_root_mean_squared_error: 0.5528 - val_wine_type_accuracy: 0.9937\n",
      "Epoch 152/180\n",
      "99/99 [==============================] - 0s 1ms/step - loss: 0.2749 - wine_quality_loss: 0.2605 - wine_type_loss: 0.0144 - wine_quality_root_mean_squared_error: 0.5104 - wine_type_accuracy: 0.9971 - val_loss: 0.3347 - val_wine_quality_loss: 0.3105 - val_wine_type_loss: 0.0242 - val_wine_quality_root_mean_squared_error: 0.5572 - val_wine_type_accuracy: 0.9937\n",
      "Epoch 153/180\n",
      "99/99 [==============================] - 0s 1ms/step - loss: 0.2754 - wine_quality_loss: 0.2611 - wine_type_loss: 0.0143 - wine_quality_root_mean_squared_error: 0.5110 - wine_type_accuracy: 0.9971 - val_loss: 0.3255 - val_wine_quality_loss: 0.3013 - val_wine_type_loss: 0.0242 - val_wine_quality_root_mean_squared_error: 0.5489 - val_wine_type_accuracy: 0.9937\n",
      "Epoch 154/180\n",
      "99/99 [==============================] - 0s 2ms/step - loss: 0.2734 - wine_quality_loss: 0.2591 - wine_type_loss: 0.0142 - wine_quality_root_mean_squared_error: 0.5090 - wine_type_accuracy: 0.9971 - val_loss: 0.3336 - val_wine_quality_loss: 0.3095 - val_wine_type_loss: 0.0241 - val_wine_quality_root_mean_squared_error: 0.5563 - val_wine_type_accuracy: 0.9937\n",
      "Epoch 155/180\n",
      "99/99 [==============================] - 0s 2ms/step - loss: 0.2734 - wine_quality_loss: 0.2593 - wine_type_loss: 0.0142 - wine_quality_root_mean_squared_error: 0.5092 - wine_type_accuracy: 0.9968 - val_loss: 0.3341 - val_wine_quality_loss: 0.3099 - val_wine_type_loss: 0.0242 - val_wine_quality_root_mean_squared_error: 0.5567 - val_wine_type_accuracy: 0.9937\n",
      "Epoch 156/180\n",
      "99/99 [==============================] - 0s 2ms/step - loss: 0.2734 - wine_quality_loss: 0.2593 - wine_type_loss: 0.0141 - wine_quality_root_mean_squared_error: 0.5092 - wine_type_accuracy: 0.9971 - val_loss: 0.3299 - val_wine_quality_loss: 0.3058 - val_wine_type_loss: 0.0241 - val_wine_quality_root_mean_squared_error: 0.5530 - val_wine_type_accuracy: 0.9937\n",
      "Epoch 157/180\n",
      "99/99 [==============================] - 0s 2ms/step - loss: 0.2735 - wine_quality_loss: 0.2595 - wine_type_loss: 0.0141 - wine_quality_root_mean_squared_error: 0.5094 - wine_type_accuracy: 0.9971 - val_loss: 0.3319 - val_wine_quality_loss: 0.3078 - val_wine_type_loss: 0.0241 - val_wine_quality_root_mean_squared_error: 0.5548 - val_wine_type_accuracy: 0.9937\n",
      "Epoch 158/180\n",
      "99/99 [==============================] - 0s 2ms/step - loss: 0.2719 - wine_quality_loss: 0.2579 - wine_type_loss: 0.0140 - wine_quality_root_mean_squared_error: 0.5078 - wine_type_accuracy: 0.9971 - val_loss: 0.3303 - val_wine_quality_loss: 0.3062 - val_wine_type_loss: 0.0242 - val_wine_quality_root_mean_squared_error: 0.5533 - val_wine_type_accuracy: 0.9937\n",
      "Epoch 159/180\n",
      "99/99 [==============================] - 0s 2ms/step - loss: 0.2732 - wine_quality_loss: 0.2592 - wine_type_loss: 0.0140 - wine_quality_root_mean_squared_error: 0.5092 - wine_type_accuracy: 0.9971 - val_loss: 0.3343 - val_wine_quality_loss: 0.3102 - val_wine_type_loss: 0.0241 - val_wine_quality_root_mean_squared_error: 0.5570 - val_wine_type_accuracy: 0.9937\n",
      "Epoch 160/180\n",
      "99/99 [==============================] - 0s 1ms/step - loss: 0.2716 - wine_quality_loss: 0.2577 - wine_type_loss: 0.0139 - wine_quality_root_mean_squared_error: 0.5077 - wine_type_accuracy: 0.9971 - val_loss: 0.3431 - val_wine_quality_loss: 0.3189 - val_wine_type_loss: 0.0242 - val_wine_quality_root_mean_squared_error: 0.5647 - val_wine_type_accuracy: 0.9937\n",
      "Epoch 161/180\n",
      "99/99 [==============================] - 0s 2ms/step - loss: 0.2715 - wine_quality_loss: 0.2577 - wine_type_loss: 0.0138 - wine_quality_root_mean_squared_error: 0.5076 - wine_type_accuracy: 0.9971 - val_loss: 0.3304 - val_wine_quality_loss: 0.3062 - val_wine_type_loss: 0.0242 - val_wine_quality_root_mean_squared_error: 0.5533 - val_wine_type_accuracy: 0.9937\n",
      "Epoch 162/180\n",
      "99/99 [==============================] - 0s 2ms/step - loss: 0.2721 - wine_quality_loss: 0.2583 - wine_type_loss: 0.0138 - wine_quality_root_mean_squared_error: 0.5082 - wine_type_accuracy: 0.9971 - val_loss: 0.3324 - val_wine_quality_loss: 0.3080 - val_wine_type_loss: 0.0244 - val_wine_quality_root_mean_squared_error: 0.5550 - val_wine_type_accuracy: 0.9937\n",
      "Epoch 163/180\n",
      "99/99 [==============================] - 0s 2ms/step - loss: 0.2709 - wine_quality_loss: 0.2570 - wine_type_loss: 0.0138 - wine_quality_root_mean_squared_error: 0.5070 - wine_type_accuracy: 0.9971 - val_loss: 0.3343 - val_wine_quality_loss: 0.3099 - val_wine_type_loss: 0.0243 - val_wine_quality_root_mean_squared_error: 0.5567 - val_wine_type_accuracy: 0.9937\n",
      "Epoch 164/180\n",
      "99/99 [==============================] - 0s 2ms/step - loss: 0.2714 - wine_quality_loss: 0.2577 - wine_type_loss: 0.0137 - wine_quality_root_mean_squared_error: 0.5077 - wine_type_accuracy: 0.9971 - val_loss: 0.3371 - val_wine_quality_loss: 0.3127 - val_wine_type_loss: 0.0243 - val_wine_quality_root_mean_squared_error: 0.5592 - val_wine_type_accuracy: 0.9937\n",
      "Epoch 165/180\n",
      "99/99 [==============================] - 0s 1ms/step - loss: 0.2698 - wine_quality_loss: 0.2561 - wine_type_loss: 0.0137 - wine_quality_root_mean_squared_error: 0.5061 - wine_type_accuracy: 0.9971 - val_loss: 0.3323 - val_wine_quality_loss: 0.3080 - val_wine_type_loss: 0.0243 - val_wine_quality_root_mean_squared_error: 0.5550 - val_wine_type_accuracy: 0.9937\n",
      "Epoch 166/180\n",
      "99/99 [==============================] - 0s 1ms/step - loss: 0.2699 - wine_quality_loss: 0.2563 - wine_type_loss: 0.0136 - wine_quality_root_mean_squared_error: 0.5063 - wine_type_accuracy: 0.9971 - val_loss: 0.3362 - val_wine_quality_loss: 0.3119 - val_wine_type_loss: 0.0244 - val_wine_quality_root_mean_squared_error: 0.5585 - val_wine_type_accuracy: 0.9937\n",
      "Epoch 167/180\n",
      "99/99 [==============================] - 0s 2ms/step - loss: 0.2687 - wine_quality_loss: 0.2551 - wine_type_loss: 0.0136 - wine_quality_root_mean_squared_error: 0.5051 - wine_type_accuracy: 0.9971 - val_loss: 0.3342 - val_wine_quality_loss: 0.3099 - val_wine_type_loss: 0.0243 - val_wine_quality_root_mean_squared_error: 0.5567 - val_wine_type_accuracy: 0.9937\n",
      "Epoch 168/180\n",
      "99/99 [==============================] - 0s 2ms/step - loss: 0.2693 - wine_quality_loss: 0.2557 - wine_type_loss: 0.0135 - wine_quality_root_mean_squared_error: 0.5057 - wine_type_accuracy: 0.9971 - val_loss: 0.3256 - val_wine_quality_loss: 0.3014 - val_wine_type_loss: 0.0242 - val_wine_quality_root_mean_squared_error: 0.5490 - val_wine_type_accuracy: 0.9937\n",
      "Epoch 169/180\n",
      "99/99 [==============================] - 0s 2ms/step - loss: 0.2685 - wine_quality_loss: 0.2550 - wine_type_loss: 0.0135 - wine_quality_root_mean_squared_error: 0.5050 - wine_type_accuracy: 0.9971 - val_loss: 0.3307 - val_wine_quality_loss: 0.3064 - val_wine_type_loss: 0.0243 - val_wine_quality_root_mean_squared_error: 0.5536 - val_wine_type_accuracy: 0.9937\n",
      "Epoch 170/180\n",
      "99/99 [==============================] - 0s 1ms/step - loss: 0.2678 - wine_quality_loss: 0.2543 - wine_type_loss: 0.0135 - wine_quality_root_mean_squared_error: 0.5043 - wine_type_accuracy: 0.9971 - val_loss: 0.3481 - val_wine_quality_loss: 0.3236 - val_wine_type_loss: 0.0245 - val_wine_quality_root_mean_squared_error: 0.5689 - val_wine_type_accuracy: 0.9937\n",
      "Epoch 171/180\n",
      "99/99 [==============================] - 0s 1ms/step - loss: 0.2679 - wine_quality_loss: 0.2545 - wine_type_loss: 0.0134 - wine_quality_root_mean_squared_error: 0.5045 - wine_type_accuracy: 0.9971 - val_loss: 0.3264 - val_wine_quality_loss: 0.3019 - val_wine_type_loss: 0.0245 - val_wine_quality_root_mean_squared_error: 0.5494 - val_wine_type_accuracy: 0.9937\n",
      "Epoch 172/180\n",
      "99/99 [==============================] - 0s 1ms/step - loss: 0.2676 - wine_quality_loss: 0.2542 - wine_type_loss: 0.0133 - wine_quality_root_mean_squared_error: 0.5042 - wine_type_accuracy: 0.9971 - val_loss: 0.3268 - val_wine_quality_loss: 0.3023 - val_wine_type_loss: 0.0245 - val_wine_quality_root_mean_squared_error: 0.5498 - val_wine_type_accuracy: 0.9937\n",
      "Epoch 173/180\n",
      "99/99 [==============================] - 0s 1ms/step - loss: 0.2676 - wine_quality_loss: 0.2544 - wine_type_loss: 0.0133 - wine_quality_root_mean_squared_error: 0.5043 - wine_type_accuracy: 0.9971 - val_loss: 0.3270 - val_wine_quality_loss: 0.3025 - val_wine_type_loss: 0.0245 - val_wine_quality_root_mean_squared_error: 0.5500 - val_wine_type_accuracy: 0.9937\n",
      "Epoch 174/180\n",
      "99/99 [==============================] - 0s 2ms/step - loss: 0.2674 - wine_quality_loss: 0.2541 - wine_type_loss: 0.0132 - wine_quality_root_mean_squared_error: 0.5041 - wine_type_accuracy: 0.9971 - val_loss: 0.3317 - val_wine_quality_loss: 0.3073 - val_wine_type_loss: 0.0245 - val_wine_quality_root_mean_squared_error: 0.5543 - val_wine_type_accuracy: 0.9937\n",
      "Epoch 175/180\n",
      "99/99 [==============================] - 0s 2ms/step - loss: 0.2672 - wine_quality_loss: 0.2540 - wine_type_loss: 0.0132 - wine_quality_root_mean_squared_error: 0.5040 - wine_type_accuracy: 0.9971 - val_loss: 0.3284 - val_wine_quality_loss: 0.3039 - val_wine_type_loss: 0.0246 - val_wine_quality_root_mean_squared_error: 0.5512 - val_wine_type_accuracy: 0.9937\n",
      "Epoch 176/180\n",
      "99/99 [==============================] - 0s 2ms/step - loss: 0.2660 - wine_quality_loss: 0.2529 - wine_type_loss: 0.0131 - wine_quality_root_mean_squared_error: 0.5029 - wine_type_accuracy: 0.9971 - val_loss: 0.3321 - val_wine_quality_loss: 0.3075 - val_wine_type_loss: 0.0245 - val_wine_quality_root_mean_squared_error: 0.5546 - val_wine_type_accuracy: 0.9937\n",
      "Epoch 177/180\n",
      "99/99 [==============================] - 0s 2ms/step - loss: 0.2655 - wine_quality_loss: 0.2524 - wine_type_loss: 0.0131 - wine_quality_root_mean_squared_error: 0.5024 - wine_type_accuracy: 0.9971 - val_loss: 0.3384 - val_wine_quality_loss: 0.3138 - val_wine_type_loss: 0.0246 - val_wine_quality_root_mean_squared_error: 0.5602 - val_wine_type_accuracy: 0.9937\n",
      "Epoch 178/180\n",
      "99/99 [==============================] - 0s 2ms/step - loss: 0.2660 - wine_quality_loss: 0.2530 - wine_type_loss: 0.0130 - wine_quality_root_mean_squared_error: 0.5030 - wine_type_accuracy: 0.9971 - val_loss: 0.3379 - val_wine_quality_loss: 0.3132 - val_wine_type_loss: 0.0247 - val_wine_quality_root_mean_squared_error: 0.5597 - val_wine_type_accuracy: 0.9937\n",
      "Epoch 179/180\n",
      "99/99 [==============================] - 0s 2ms/step - loss: 0.2652 - wine_quality_loss: 0.2522 - wine_type_loss: 0.0130 - wine_quality_root_mean_squared_error: 0.5022 - wine_type_accuracy: 0.9971 - val_loss: 0.3381 - val_wine_quality_loss: 0.3134 - val_wine_type_loss: 0.0247 - val_wine_quality_root_mean_squared_error: 0.5599 - val_wine_type_accuracy: 0.9937\n",
      "Epoch 180/180\n",
      "99/99 [==============================] - 0s 2ms/step - loss: 0.2651 - wine_quality_loss: 0.2522 - wine_type_loss: 0.0130 - wine_quality_root_mean_squared_error: 0.5022 - wine_type_accuracy: 0.9971 - val_loss: 0.3324 - val_wine_quality_loss: 0.3075 - val_wine_type_loss: 0.0248 - val_wine_quality_root_mean_squared_error: 0.5546 - val_wine_type_accuracy: 0.9937\n"
     ]
    }
   ],
   "source": [
    "## Please uncomment all lines in this cell and replace those marked with `# YOUR CODE HERE`.\n",
    "## You can select all lines in this code cell with Ctrl+A (Windows/Linux) or Cmd+A (Mac), then press Ctrl+/ (Windows/Linux) or Cmd+/ (Mac) to uncomment.\n",
    "history = model.fit(norm_train_X, train_Y,\n",
    "                    epochs = 180, validation_data=(norm_val_X, val_Y))"
   ]
  },
  {
   "cell_type": "code",
   "execution_count": 47,
   "metadata": {
    "deletable": false,
    "editable": false,
    "nbgrader": {
     "cell_type": "code",
     "checksum": "fadad8896eda9c8c2115970724b15508",
     "grade": true,
     "grade_id": "cell-eb4d5b41bef8f0ab",
     "locked": true,
     "points": 1,
     "schema_version": 3,
     "solution": false,
     "task": false
    }
   },
   "outputs": [],
   "source": [
    "#utils.test_history(history)"
   ]
  },
  {
   "cell_type": "code",
   "execution_count": 48,
   "metadata": {
    "colab": {},
    "colab_type": "code",
    "id": "CubF2J2gSf6q"
   },
   "outputs": [
    {
     "name": "stdout",
     "output_type": "stream",
     "text": [
      "25/25 [==============================] - 0s 1ms/step - loss: 0.3324 - wine_quality_loss: 0.3075 - wine_type_loss: 0.0248 - wine_quality_root_mean_squared_error: 0.5546 - wine_type_accuracy: 0.9937\n",
      "\n",
      "loss: 0.33235448598861694\n",
      "wine_quality_loss: 0.3075491786003113\n",
      "wine_type_loss: 0.024805281311273575\n",
      "wine_quality_rmse: 0.5545711517333984\n",
      "wine_type_accuracy: 0.9936628937721252\n"
     ]
    }
   ],
   "source": [
    "# Gather the training metrics\n",
    "loss, wine_quality_loss, wine_type_loss, wine_quality_rmse, wine_type_accuracy = model.evaluate(x=norm_val_X, y=val_Y)\n",
    "\n",
    "print()\n",
    "print(f'loss: {loss}')\n",
    "print(f'wine_quality_loss: {wine_quality_loss}')\n",
    "print(f'wine_type_loss: {wine_type_loss}')\n",
    "print(f'wine_quality_rmse: {wine_quality_rmse}')\n",
    "print(f'wine_type_accuracy: {wine_type_accuracy}')\n",
    "\n",
    "# EXPECTED VALUES\n",
    "# ~ 0.30 - 0.38\n",
    "# ~ 0.30 - 0.38\n",
    "# ~ 0.018 - 0.030\n",
    "# ~ 0.50 - 0.62\n",
    "# ~ 0.97 - 1.0\n",
    "\n",
    "# Example:\n",
    "#0.3657050132751465\n",
    "#0.3463745415210724\n",
    "#0.019330406561493874\n",
    "#0.5885359048843384\n",
    "#0.9974651336669922"
   ]
  },
  {
   "cell_type": "markdown",
   "metadata": {
    "colab_type": "text",
    "id": "gPtTGAP4usnm"
   },
   "source": [
    "## Analyze the Model Performance\n",
    "\n",
    "Note that the model has two outputs. The output at index 0 is quality and index 1 is wine type\n",
    "\n",
    "So, round the quality predictions to the nearest integer."
   ]
  },
  {
   "cell_type": "code",
   "execution_count": 49,
   "metadata": {
    "colab": {},
    "colab_type": "code",
    "id": "tBq9PEeAaW-Y"
   },
   "outputs": [
    {
     "name": "stdout",
     "output_type": "stream",
     "text": [
      "31/31 [==============================] - 0s 970us/step\n"
     ]
    }
   ],
   "source": [
    "predictions = model.predict(norm_test_X)\n",
    "quality_pred = predictions[0]\n",
    "type_pred = predictions[1]"
   ]
  },
  {
   "cell_type": "code",
   "execution_count": 50,
   "metadata": {
    "colab": {},
    "colab_type": "code",
    "id": "YLhgTR4xTIxj"
   },
   "outputs": [
    {
     "name": "stdout",
     "output_type": "stream",
     "text": [
      "[5.718447]\n"
     ]
    }
   ],
   "source": [
    "print(quality_pred[0])\n",
    "\n",
    "# EXPECTED OUTPUT\n",
    "# 5.6 - 6.0"
   ]
  },
  {
   "cell_type": "code",
   "execution_count": 51,
   "metadata": {
    "colab": {},
    "colab_type": "code",
    "id": "MPi-eYfGTUXi"
   },
   "outputs": [
    {
     "name": "stdout",
     "output_type": "stream",
     "text": [
      "[5.1209623e-05]\n",
      "[0.9999995]\n"
     ]
    }
   ],
   "source": [
    "print(type_pred[0])\n",
    "print(type_pred[944])\n",
    "\n",
    "# EXPECTED OUTPUT\n",
    "# A number close to zero\n",
    "# A number close to or equal to 1"
   ]
  },
  {
   "cell_type": "markdown",
   "metadata": {
    "colab_type": "text",
    "id": "Kohk-9C6vt_s"
   },
   "source": [
    "### Plot Utilities\n",
    "\n",
    "We define a few utilities to visualize the model performance."
   ]
  },
  {
   "cell_type": "code",
   "execution_count": 52,
   "metadata": {
    "colab": {},
    "colab_type": "code",
    "id": "62gEOFUhn6aQ"
   },
   "outputs": [],
   "source": [
    "def plot_metrics(metric_name, title, ylim=5):\n",
    "    plt.title(title)\n",
    "    plt.ylim(0,ylim)\n",
    "    plt.plot(history.history[metric_name],color='blue',label=metric_name)\n",
    "    plt.plot(history.history['val_' + metric_name],color='green',label='val_' + metric_name)\n"
   ]
  },
  {
   "cell_type": "code",
   "execution_count": 53,
   "metadata": {
    "colab": {},
    "colab_type": "code",
    "id": "6rfgSx7uz5dj"
   },
   "outputs": [],
   "source": [
    "def plot_confusion_matrix(y_true, y_pred, title='', labels=[0,1]):\n",
    "    cm = confusion_matrix(y_true, y_pred)\n",
    "    fig = plt.figure()\n",
    "    ax = fig.add_subplot(111)\n",
    "    cax = ax.matshow(cm)\n",
    "    plt.title('Confusion matrix of the classifier')\n",
    "    fig.colorbar(cax)\n",
    "    ax.set_xticklabels([''] + labels)\n",
    "    ax.set_yticklabels([''] + labels)\n",
    "    plt.xlabel('Predicted')\n",
    "    plt.ylabel('True')\n",
    "    fmt = 'd'\n",
    "    thresh = cm.max() / 2.\n",
    "    for i, j in itertools.product(range(cm.shape[0]), range(cm.shape[1])):\n",
    "          plt.text(j, i, format(cm[i, j], fmt),\n",
    "                  horizontalalignment=\"center\",\n",
    "                  color=\"black\" if cm[i, j] > thresh else \"white\")\n",
    "    plt.show()"
   ]
  },
  {
   "cell_type": "code",
   "execution_count": 54,
   "metadata": {
    "colab": {},
    "colab_type": "code",
    "id": "dfVLIqi017Vf"
   },
   "outputs": [],
   "source": [
    "def plot_diff(y_true, y_pred, title = '' ):\n",
    "    plt.scatter(y_true, y_pred)\n",
    "    plt.title(title)\n",
    "    plt.xlabel('True Values')\n",
    "    plt.ylabel('Predictions')\n",
    "    plt.axis('equal')\n",
    "    plt.axis('square')\n",
    "    plt.plot([-100, 100], [-100, 100])\n",
    "    return plt"
   ]
  },
  {
   "cell_type": "markdown",
   "metadata": {
    "colab_type": "text",
    "id": "8sd1jdFbwE0I"
   },
   "source": [
    "### Plots for Metrics"
   ]
  },
  {
   "cell_type": "code",
   "execution_count": 55,
   "metadata": {
    "colab": {},
    "colab_type": "code",
    "id": "f3MwZ5J1pOfj"
   },
   "outputs": [
    {
     "data": {
      "image/png": "[encoded data removed]",
      "text/plain": [
       "<Figure size 640x480 with 1 Axes>"
      ]
     },
     "metadata": {},
     "output_type": "display_data"
    }
   ],
   "source": [
    "plot_metrics('wine_quality_root_mean_squared_error', 'RMSE', ylim=2)"
   ]
  },
  {
   "cell_type": "code",
   "execution_count": 56,
   "metadata": {
    "colab": {},
    "colab_type": "code",
    "id": "QIAxEezCppnd"
   },
   "outputs": [
    {
     "data": {
      "image/png": "[encoded data removed]",
      "text/plain": [
       "<Figure size 640x480 with 1 Axes>"
      ]
     },
     "metadata": {},
     "output_type": "display_data"
    }
   ],
   "source": [
    "plot_metrics('wine_type_loss', 'Wine Type Loss', ylim=0.2)"
   ]
  },
  {
   "cell_type": "markdown",
   "metadata": {
    "colab_type": "text",
    "id": "uYV9AOAMwI9p"
   },
   "source": [
    "### Plots for Confusion Matrix\n",
    "\n",
    "Plot the confusion matrices for wine type. You can see that the model performs well for prediction of wine type from the confusion matrix and the loss metrics."
   ]
  },
  {
   "cell_type": "code",
   "execution_count": 57,
   "metadata": {
    "colab": {},
    "colab_type": "code",
    "id": "C3hvTYxIaf3n"
   },
   "outputs": [
    {
     "name": "stderr",
     "output_type": "stream",
     "text": [
      "C:\\Users\\inbutaji\\AppData\\Local\\Temp\\ipykernel_28600\\1339240941.py:8: UserWarning: FixedFormatter should only be used together with FixedLocator\n",
      "  ax.set_xticklabels([''] + labels)\n",
      "C:\\Users\\inbutaji\\AppData\\Local\\Temp\\ipykernel_28600\\1339240941.py:9: UserWarning: FixedFormatter should only be used together with FixedLocator\n",
      "  ax.set_yticklabels([''] + labels)\n"
     ]
    },
    {
     "data": {
      "image/png": "[encoded data removed]",
      "text/plain": [
       "<Figure size 640x480 with 2 Axes>"
      ]
     },
     "metadata": {},
     "output_type": "display_data"
    }
   ],
   "source": [
    "plot_confusion_matrix(test_Y[1], np.round(type_pred), title='Wine Type', labels = [0, 1])"
   ]
  },
  {
   "cell_type": "code",
   "execution_count": 58,
   "metadata": {
    "colab": {},
    "colab_type": "code",
    "id": "GW91ym8P2I5y"
   },
   "outputs": [
    {
     "data": {
      "image/png": "[encoded data removed]",
      "text/plain": [
       "<Figure size 640x480 with 1 Axes>"
      ]
     },
     "metadata": {},
     "output_type": "display_data"
    }
   ],
   "source": [
    "scatter_plot = plot_diff(test_Y[0], quality_pred, title='Type')"
   ]
  },
  {
   "cell_type": "code",
   "execution_count": null,
   "metadata": {},
   "outputs": [],
   "source": []
  }
 ],
 "metadata": {
  "colab": {
   "include_colab_link": true,
   "name": "exercise-answer.ipynb",
   "provenance": []
  },
  "kernelspec": {
   "display_name": ".venv",
   "language": "python",
   "name": "python3"
  },
  "language_info": {
   "codemirror_mode": {
    "name": "ipython",
    "version": 3
   },
   "file_extension": ".py",
   "mimetype": "text/x-python",
   "name": "python",
   "nbconvert_exporter": "python",
   "pygments_lexer": "ipython3",
   "version": "3.8.2"
  }
 },
 "nbformat": 4,
 "nbformat_minor": 4
}
