{
  "cells": [
    {
      "cell_type": "code",
      "execution_count": 2,
      "metadata": {
        "id": "bSbMsPKxn7-y"
      },
      "outputs": [
        {
          "name": "stdout",
          "output_type": "stream",
          "text": [
            "Version of tensorflow is :  2.13.0\n"
          ]
        }
      ],
      "source": [
        "import tensorflow as tf\n",
        "from tensorflow.keras.layers import Dense , Input\n",
        "import numpy as np\n",
        "print(\"Version of tensorflow is : \",tf.__version__)\n",
        "from tensorflow.python.keras.utils.vis_utils import plot_model\n",
        "\n",
        "import matplotlib.pyplot as plt\n",
        "%matplotlib inline\n",
        "import seaborn as sns\n",
        "sns.set_style(\"darkgrid\")"
      ]
    },
    {
      "cell_type": "code",
      "execution_count": 3,
      "metadata": {
        "colab": {
          "base_uri": "https://localhost:8080/",
          "height": 282
        },
        "id": "bL-zb4EIpGcJ",
        "outputId": "d7f362e8-9572-4b52-a927-96e819c85dbf"
      },
      "outputs": [
        {
          "data": {
            "text/plain": [
              "[<matplotlib.lines.Line2D at 0x1f74797cdf0>]"
            ]
          },
          "execution_count": 3,
          "metadata": {},
          "output_type": "execute_result"
        },
        {
          "data": {
            "image/png": "[encoded data removed]",
            "text/plain": [
              "<Figure size 640x480 with 1 Axes>"
            ]
          },
          "metadata": {},
          "output_type": "display_data"
        }
      ],
      "source": [
        "xs = np.arange(-5,5,1).astype('float32')\n",
        "ys = xs * 2 - 1\n",
        "plt.plot(xs , ys,'o--')"
      ]
    },
    {
      "cell_type": "markdown",
      "metadata": {
        "id": "HSN33W29plH0"
      },
      "source": [
        "Model using **MSE** loss"
      ]
    },
    {
      "cell_type": "code",
      "execution_count": 4,
      "metadata": {
        "colab": {
          "base_uri": "https://localhost:8080/"
        },
        "id": "3WN27Tnmpe4m",
        "outputId": "b446f4a1-ab97-46a9-9b92-b1a6f1af696c"
      },
      "outputs": [
        {
          "name": "stdout",
          "output_type": "stream",
          "text": [
            "1/1 [==============================] - 0s 56ms/step\n"
          ]
        },
        {
          "data": {
            "text/plain": [
              "array([[19.000086]], dtype=float32)"
            ]
          },
          "execution_count": 4,
          "metadata": {},
          "output_type": "execute_result"
        }
      ],
      "source": [
        "input = Input(shape=(1,) , name=\"input_layer\")\n",
        "output_layer = Dense(1 , name=\"output_layer\")(input)\n",
        "model_mse_loss = tf.keras.models.Model(inputs=input , outputs=output_layer)\n",
        "model_mse_loss.compile(optimizer=\"sgd\" , loss=\"mse\")\n",
        "model_mse_loss.fit(xs,ys,epochs=500,verbose=0)\n",
        "model_mse_loss.predict([[10.0]])"
      ]
    },
    {
      "cell_type": "code",
      "execution_count": 5,
      "metadata": {
        "colab": {
          "base_uri": "https://localhost:8080/"
        },
        "id": "hXSSJejBsS9c",
        "outputId": "c89d3107-bbe8-45dd-ac30-034b3a794386"
      },
      "outputs": [
        {
          "data": {
            "text/plain": [
              "[array([[2.0000036]], dtype=float32), array([-0.9999509], dtype=float32)]"
            ]
          },
          "execution_count": 5,
          "metadata": {},
          "output_type": "execute_result"
        }
      ],
      "source": [
        "model_mse_loss.get_weights()"
      ]
    },
    {
      "cell_type": "code",
      "execution_count": 7,
      "metadata": {
        "colab": {
          "base_uri": "https://localhost:8080/",
          "height": 201
        },
        "id": "zOxJIMZutUzv",
        "outputId": "3d2a5512-29f4-4a09-b50e-68f3f2a9d28f"
      },
      "outputs": [
        {
          "name": "stdout",
          "output_type": "stream",
          "text": [
            "Model: \"model\"\n",
            "_________________________________________________________________\n",
            " Layer (type)                Output Shape              Param #   \n",
            "=================================================================\n",
            " input_layer (InputLayer)    [(None, 1)]               0         \n",
            "                                                                 \n",
            " output_layer (Dense)        (None, 1)                 2         \n",
            "                                                                 \n",
            "=================================================================\n",
            "Total params: 2 (8.00 Byte)\n",
            "Trainable params: 2 (8.00 Byte)\n",
            "Non-trainable params: 0 (0.00 Byte)\n",
            "_________________________________________________________________\n",
            "None\n"
          ]
        }
      ],
      "source": [
        "#plot_model(model_mse_loss , to_file=\"mse_loss_model.png\" , show_layer_names=True , show_shapes=True)\n",
        "print(model_mse_loss.summary())"
      ]
    },
    {
      "cell_type": "markdown",
      "metadata": {
        "id": "FLRjO-dOq5nC"
      },
      "source": [
        "Model with **Huber** Loss"
      ]
    },
    {
      "cell_type": "code",
      "execution_count": 8,
      "metadata": {
        "id": "GREo7_zoqc2Q"
      },
      "outputs": [],
      "source": [
        "def huber_loss(y_true , y_pred):\n",
        "    thresold = 1\n",
        "    error = y_true - y_pred\n",
        "    return_type = tf.abs(error) <= thresold\n",
        "    r1 = 0.5 * tf.square(error)\n",
        "    r2 = thresold * (tf.abs(error) - (0.5*thresold))\n",
        "    return tf.where(return_type , r1 , r2)"
      ]
    },
    {
      "cell_type": "code",
      "execution_count": 9,
      "metadata": {
        "colab": {
          "base_uri": "https://localhost:8080/"
        },
        "id": "AZFAtDY9r4Cx",
        "outputId": "daf1cc74-7f8b-4e2d-eb31-558ff6763704"
      },
      "outputs": [
        {
          "name": "stdout",
          "output_type": "stream",
          "text": [
            "1/1 [==============================] - 0s 48ms/step\n"
          ]
        },
        {
          "data": {
            "text/plain": [
              "array([[19.01609]], dtype=float32)"
            ]
          },
          "execution_count": 9,
          "metadata": {},
          "output_type": "execute_result"
        }
      ],
      "source": [
        "input = Input(shape=(1,) , name=\"input_layer\")\n",
        "output_layer = Dense(1 , name=\"output_layer\")(input)\n",
        "model_huber_loss = tf.keras.models.Model(inputs=input , outputs=output_layer)\n",
        "model_huber_loss.compile(optimizer=\"sgd\" , loss=huber_loss)\n",
        "model_huber_loss.fit(xs,ys,epochs=500,verbose=0)\n",
        "model_huber_loss.predict([[10.0]])"
      ]
    },
    {
      "cell_type": "code",
      "execution_count": 10,
      "metadata": {
        "colab": {
          "base_uri": "https://localhost:8080/"
        },
        "id": "PpxgHgaAsAmW",
        "outputId": "a8535602-11b5-4b15-e66c-c46e1de8bc8e"
      },
      "outputs": [
        {
          "data": {
            "text/plain": [
              "[array([[2.0006418]], dtype=float32), array([-0.99032855], dtype=float32)]"
            ]
          },
          "execution_count": 10,
          "metadata": {},
          "output_type": "execute_result"
        }
      ],
      "source": [
        "model_huber_loss.get_weights()"
      ]
    },
    {
      "cell_type": "code",
      "execution_count": 11,
      "metadata": {
        "colab": {
          "base_uri": "https://localhost:8080/",
          "height": 201
        },
        "id": "VWm5FDBAtEqJ",
        "outputId": "b506a0f7-d089-4b54-dfec-b2aade0a0a24"
      },
      "outputs": [
        {
          "name": "stdout",
          "output_type": "stream",
          "text": [
            "Model: \"model_1\"\n",
            "_________________________________________________________________\n",
            " Layer (type)                Output Shape              Param #   \n",
            "=================================================================\n",
            " input_layer (InputLayer)    [(None, 1)]               0         \n",
            "                                                                 \n",
            " output_layer (Dense)        (None, 1)                 2         \n",
            "                                                                 \n",
            "=================================================================\n",
            "Total params: 2 (8.00 Byte)\n",
            "Trainable params: 2 (8.00 Byte)\n",
            "Non-trainable params: 0 (0.00 Byte)\n",
            "_________________________________________________________________\n",
            "None\n"
          ]
        }
      ],
      "source": [
        "#plot_model(model_huber_loss , to_file=\"huber_loss_model.png\" , show_layer_names=True , show_shapes=True)\n",
        "print(model_huber_loss.summary())"
      ]
    },
    {
      "cell_type": "code",
      "execution_count": null,
      "metadata": {},
      "outputs": [],
      "source": []
    }
  ],
  "metadata": {
    "accelerator": "GPU",
    "colab": {
      "name": "huber_loss.ipynb",
      "provenance": []
    },
    "kernelspec": {
      "display_name": ".venv",
      "language": "python",
      "name": "python3"
    },
    "language_info": {
      "codemirror_mode": {
        "name": "ipython",
        "version": 3
      },
      "file_extension": ".py",
      "mimetype": "text/x-python",
      "name": "python",
      "nbconvert_exporter": "python",
      "pygments_lexer": "ipython3",
      "version": "3.8.2"
    }
  },
  "nbformat": 4,
  "nbformat_minor": 0
}
