{
  "cells": [
    {
      "cell_type": "code",
      "execution_count": 1,
      "metadata": {
        "id": "Ncgsc7irz1CA"
      },
      "outputs": [
        {
          "name": "stdout",
          "output_type": "stream",
          "text": [
            "Version of tensorflow is :  2.13.0\n"
          ]
        }
      ],
      "source": [
        "import tensorflow as tf\n",
        "from tensorflow.keras.layers import Dense , Input\n",
        "from tensorflow.keras.losses import Loss\n",
        "import numpy as np\n",
        "print(\"Version of tensorflow is : \",tf.__version__)"
      ]
    },
    {
      "cell_type": "code",
      "execution_count": 4,
      "metadata": {
        "id": "Ws0g7lwP08_3"
      },
      "outputs": [],
      "source": [
        "xs = np.arange(-5,5,1).astype('float32')\n",
        "ys = xs * 2 - 1"
      ]
    },
    {
      "cell_type": "markdown",
      "metadata": {
        "id": "Jk-4m7B20X5U"
      },
      "source": [
        "huber loss function **without wrapper**\n",
        "\n",
        "---\n",
        "\n",
        "In that case we can not pass any type of parameter to the function, thresold is the most important parameter in that type of loss function , so we need to tune this."
      ]
    },
    {
      "cell_type": "code",
      "execution_count": 3,
      "metadata": {
        "id": "c16i1t_m0L5B"
      },
      "outputs": [],
      "source": [
        "def huber_loss(y_true , y_pred):\n",
        "    thresold = 1\n",
        "    error = y_true - y_pred\n",
        "    return_type = tf.abs(error) <= thresold\n",
        "    r1 = 0.5 * tf.square(error)\n",
        "    r2 = thresold * (tf.abs(error) - (0.5*thresold))\n",
        "    return tf.where(return_type , r1 , r2)"
      ]
    },
    {
      "cell_type": "code",
      "execution_count": 5,
      "metadata": {
        "colab": {
          "base_uri": "https://localhost:8080/"
        },
        "id": "ffBzHdU5046x",
        "outputId": "374cb36c-c70d-4a90-f281-553a845eb080"
      },
      "outputs": [
        {
          "data": {
            "text/plain": [
              "array([[19.019274]], dtype=float32)"
            ]
          },
          "execution_count": 5,
          "metadata": {
            "tags": []
          },
          "output_type": "execute_result"
        }
      ],
      "source": [
        "input = Input(shape=(1,) , name=\"input_layer\")\n",
        "output_layer = Dense(1 , name=\"output_layer\")(input)\n",
        "model_huber_loss = tf.keras.models.Model(inputs=input , outputs=output_layer)\n",
        "model_huber_loss.compile(optimizer=\"sgd\" , loss=huber_loss)\n",
        "model_huber_loss.fit(xs,ys,epochs=500,verbose=0)\n",
        "model_huber_loss.predict([[10.0]])"
      ]
    },
    {
      "cell_type": "markdown",
      "metadata": {
        "id": "H1eLIZLf1BTD"
      },
      "source": [
        "huber loss function **with wrapper**\n",
        "\n",
        "---\n",
        "\n",
        "In that case we can pass any type of parameter to the function, thresold is the most important parameter in that type of loss function , so we need to tune this parameter."
      ]
    },
    {
      "cell_type": "code",
      "execution_count": 7,
      "metadata": {
        "id": "4D61hNmN1AE1"
      },
      "outputs": [],
      "source": [
        "def huber_loss_wrapper(thresold):\n",
        "    def huber_loss(y_true , y_pred):\n",
        "        error = y_true - y_pred\n",
        "        return_type = tf.abs(error) <= thresold\n",
        "        r1 = 0.5 * tf.square(error)\n",
        "        r2 = thresold * (tf.abs(error) - (0.5*thresold))\n",
        "        return tf.where(return_type , r1 , r2)\n",
        "    return huber_loss"
      ]
    },
    {
      "cell_type": "code",
      "execution_count": 14,
      "metadata": {
        "colab": {
          "base_uri": "https://localhost:8080/"
        },
        "id": "GdCQpz4E1mKW",
        "outputId": "c9ecdfa7-423f-4981-f156-0456e40ebf34"
      },
      "outputs": [
        {
          "name": "stdout",
          "output_type": "stream",
          "text": [
            "WARNING:tensorflow:8 out of the last 8 calls to <function Model.make_predict_function.<locals>.predict_function at 0x7f341a4c9ae8> triggered tf.function retracing. Tracing is expensive and the excessive number of tracings could be due to (1) creating @tf.function repeatedly in a loop, (2) passing tensors with different shapes, (3) passing Python objects instead of tensors. For (1), please define your @tf.function outside of the loop. For (2), @tf.function has experimental_relax_shapes=True option that relaxes argument shapes that can avoid unnecessary retracing. For (3), please refer to https://www.tensorflow.org/tutorials/customization/performance#python_or_tensor_args and https://www.tensorflow.org/api_docs/python/tf/function for  more details.\n"
          ]
        },
        {
          "data": {
            "text/plain": [
              "array([[19.014534]], dtype=float32)"
            ]
          },
          "execution_count": 14,
          "metadata": {
            "tags": []
          },
          "output_type": "execute_result"
        }
      ],
      "source": [
        "input = Input(shape=(1,) , name=\"input_layer\")\n",
        "output_layer = Dense(1 , name=\"output_layer\")(input)\n",
        "model_huber_loss_wrapper = tf.keras.models.Model(inputs=input , outputs=output_layer)\n",
        "model_huber_loss_wrapper.compile(optimizer=\"sgd\" , loss=huber_loss_wrapper(thresold=1))\n",
        "model_huber_loss_wrapper.fit(xs,ys,epochs=500,verbose=0)\n",
        "model_huber_loss_wrapper.predict([[10.0]])"
      ]
    },
    {
      "cell_type": "markdown",
      "metadata": {
        "id": "hDvPPj2b3FNh"
      },
      "source": [
        "**Own loss Class & Object**"
      ]
    },
    {
      "cell_type": "code",
      "execution_count": 15,
      "metadata": {
        "id": "fs8bzlUW1wpm"
      },
      "outputs": [],
      "source": [
        "class Huber(Loss):\n",
        "    thresold = 1\n",
        "    def __init__(self , thresold):\n",
        "        super().__init__()\n",
        "        self.thresold = thresold\n",
        "    def call(self , y_true , y_pred):\n",
        "        error = y_true - y_pred\n",
        "        return_type = tf.abs(error) <= self.thresold\n",
        "        r1 = 0.5 * tf.square(error)\n",
        "        r2 = self.thresold * (tf.abs(error) - (0.5*self.thresold))\n",
        "        return tf.where(return_type , r1 , r2)"
      ]
    },
    {
      "cell_type": "code",
      "execution_count": 19,
      "metadata": {
        "colab": {
          "base_uri": "https://localhost:8080/"
        },
        "id": "6a-eDndt2p8Z",
        "outputId": "42319256-5179-493f-d459-2b0190117194"
      },
      "outputs": [
        {
          "name": "stdout",
          "output_type": "stream",
          "text": [
            "WARNING:tensorflow:11 out of the last 11 calls to <function Model.make_predict_function.<locals>.predict_function at 0x7f341a15b268> triggered tf.function retracing. Tracing is expensive and the excessive number of tracings could be due to (1) creating @tf.function repeatedly in a loop, (2) passing tensors with different shapes, (3) passing Python objects instead of tensors. For (1), please define your @tf.function outside of the loop. For (2), @tf.function has experimental_relax_shapes=True option that relaxes argument shapes that can avoid unnecessary retracing. For (3), please refer to https://www.tensorflow.org/tutorials/customization/performance#python_or_tensor_args and https://www.tensorflow.org/api_docs/python/tf/function for  more details.\n"
          ]
        },
        {
          "data": {
            "text/plain": [
              "array([[19.020779]], dtype=float32)"
            ]
          },
          "execution_count": 19,
          "metadata": {
            "tags": []
          },
          "output_type": "execute_result"
        }
      ],
      "source": [
        "input = Input(shape=(1,) , name=\"input_layer\")\n",
        "output_layer = Dense(1 , name=\"output_layer\")(input)\n",
        "model_huber_loss_class = tf.keras.models.Model(inputs=input , outputs=output_layer)\n",
        "model_huber_loss_class.compile(optimizer=\"sgd\" , loss=Huber(thresold=1))\n",
        "model_huber_loss_class.fit(xs,ys,epochs=500,verbose=0)\n",
        "model_huber_loss_class.predict([[10.0]])"
      ]
    }
  ],
  "metadata": {
    "accelerator": "GPU",
    "colab": {
      "collapsed_sections": [],
      "name": "ownLossFunctionWithParam.ipynb",
      "provenance": []
    },
    "kernelspec": {
      "display_name": ".venv",
      "language": "python",
      "name": "python3"
    },
    "language_info": {
      "codemirror_mode": {
        "name": "ipython",
        "version": 3
      },
      "file_extension": ".py",
      "mimetype": "text/x-python",
      "name": "python",
      "nbconvert_exporter": "python",
      "pygments_lexer": "ipython3",
      "version": "3.8.2"
    }
  },
  "nbformat": 4,
  "nbformat_minor": 0
}
